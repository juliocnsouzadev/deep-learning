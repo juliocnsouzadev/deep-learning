{
 "cells": [
  {
   "cell_type": "markdown",
   "metadata": {},
   "source": [
    "# Self Organizing Map"
   ]
  },
  {
   "cell_type": "code",
   "execution_count": 1,
   "metadata": {},
   "outputs": [
    {
     "name": "stdout",
     "output_type": "stream",
     "text": [
      "Requirement already satisfied: MiniSom in d:\\apps\\anaconda3\\lib\\site-packages (2.2.7)\n"
     ]
    }
   ],
   "source": [
    "!pip install MiniSom"
   ]
  },
  {
   "cell_type": "code",
   "execution_count": 2,
   "metadata": {},
   "outputs": [],
   "source": [
    "import numpy as np\n",
    "import pandas as pd\n",
    "import matplotlib.pyplot as plt\n",
    "\n",
    "from sklearn.preprocessing import MinMaxScaler\n",
    "from minisom import MiniSom\n",
    "from pylab import bone, pcolor, colorbar, plot, show"
   ]
  },
  {
   "cell_type": "markdown",
   "metadata": {},
   "source": [
    "### Read and Feature Scale the Data"
   ]
  },
  {
   "cell_type": "code",
   "execution_count": 3,
   "metadata": {},
   "outputs": [],
   "source": [
    "dataset = pd.read_csv(\"./som/credit_card_applications.csv\")"
   ]
  },
  {
   "cell_type": "code",
   "execution_count": 4,
   "metadata": {},
   "outputs": [],
   "source": [
    "scaler = MinMaxScaler(feature_range= (0,1))\n",
    "X = dataset.iloc[:, :-1].values\n",
    "Y = dataset.iloc[:, -1].values\n",
    "X = scaler.fit_transform(X)"
   ]
  },
  {
   "cell_type": "markdown",
   "metadata": {},
   "source": [
    "### Training the SOM"
   ]
  },
  {
   "cell_type": "code",
   "execution_count": 5,
   "metadata": {},
   "outputs": [],
   "source": [
    "som = MiniSom(x=10, y=10, input_len=15, sigma=1.0, learning_rate=0.5)"
   ]
  },
  {
   "cell_type": "code",
   "execution_count": 6,
   "metadata": {},
   "outputs": [],
   "source": [
    "som.random_weights_init(X)\n",
    "som.train_random(data=X, num_iteration=100)"
   ]
  },
  {
   "cell_type": "markdown",
   "metadata": {},
   "source": [
    "### Visualizing the Resuls"
   ]
  },
  {
   "cell_type": "code",
   "execution_count": 7,
   "metadata": {},
   "outputs": [
    {
     "data": {
      "image/png": "[encoded data removed]",
      "text/plain": [
       "<Figure size 432x288 with 2 Axes>"
      ]
     },
     "metadata": {
      "needs_background": "light"
     },
     "output_type": "display_data"
    }
   ],
   "source": [
    "try:\n",
    "    bone()\n",
    "    pcolor(som.distance_map().T)\n",
    "    colorbar()\n",
    "    markers = ['o', 's']\n",
    "    colors = ['r','b']\n",
    "    for i, x in enumerate(X):\n",
    "        winner = som.winner(x)\n",
    "        plot(\n",
    "            winner[0] + 0.5,\n",
    "            winner[1] + 0.5,\n",
    "            markers[Y[i]],\n",
    "            markeredgecolor = colors[Y[i]],\n",
    "            markerfacecolor = 'None',\n",
    "            markersize = 10,\n",
    "            markeredgewidth = 2)\n",
    "    show()\n",
    "except ValueError as e:\n",
    "    print(e)"
   ]
  },
  {
   "cell_type": "markdown",
   "metadata": {},
   "source": [
    "### Searching for frauds"
   ]
  },
  {
   "cell_type": "code",
   "execution_count": 8,
   "metadata": {},
   "outputs": [],
   "source": [
    "mappings = som.win_map(X)\n",
    "mappings_tuple = (mappings[(1,1)], mappings[(2,1)])\n",
    "frauds = np.concatenate(\n",
    "    mappings_tuple,\n",
    "    axis = 0\n",
    ")\n",
    "frauds = scaler.inverse_transform(frauds)"
   ]
  },
  {
   "cell_type": "code",
   "execution_count": 9,
   "metadata": {},
   "outputs": [
    {
     "name": "stdout",
     "output_type": "stream",
     "text": [
      "Fraud customer Id 15663942\n",
      "Fraud customer Id 15767729\n",
      "Fraud customer Id 15711446\n",
      "Fraud customer Id 15720529\n",
      "Fraud customer Id 15787693\n",
      "Fraud customer Id 15688210\n",
      "Fraud customer Id 15793366\n",
      "Fraud customer Id 15728906\n",
      "Fraud customer Id 15793317\n",
      "Fraud customer Id 15735106\n",
      "Fraud customer Id 15692430\n",
      "Fraud customer Id 15683276\n",
      "Fraud customer Id 15652289\n",
      "Fraud customer Id 15768777\n",
      "Fraud customer Id 15791326\n",
      "Fraud customer Id 15643574\n",
      "Fraud customer Id 15779586\n",
      "Fraud customer Id 15730150\n",
      "Fraud customer Id 15692408\n",
      "Fraud customer Id 15694530\n",
      "Fraud customer Id 15596797\n",
      "Fraud customer Id 15667451\n",
      "Fraud customer Id 15600975\n",
      "Fraud customer Id 15704509\n",
      "Fraud customer Id 15592914\n",
      "Fraud customer Id 15623668\n",
      "Fraud customer Id 15708236\n",
      "Fraud customer Id 15686670\n",
      "Fraud customer Id 15617065\n",
      "Fraud customer Id 15624850\n",
      "Fraud customer Id 15688059\n",
      "Fraud customer Id 15646521\n",
      "Fraud customer Id 15660263\n",
      "Fraud customer Id 15615176\n",
      "Fraud customer Id 15656417\n",
      "Fraud customer Id 15748691\n",
      "Fraud customer Id 15615670\n",
      "Fraud customer Id 15727811\n",
      "Fraud customer Id 15665590\n",
      "Fraud customer Id 15652667\n"
     ]
    }
   ],
   "source": [
    "for customerId in frauds[:,0]:\n",
    "    print(\"Fraud customer Id {}\".format(int(customerId)))"
   ]
  },
  {
   "cell_type": "code",
   "execution_count": null,
   "metadata": {},
   "outputs": [],
   "source": []
  }
 ],
 "metadata": {
  "kernelspec": {
   "display_name": "Python 3",
   "language": "python",
   "name": "python3"
  },
  "language_info": {
   "codemirror_mode": {
    "name": "ipython",
    "version": 3
   },
   "file_extension": ".py",
   "mimetype": "text/x-python",
   "name": "python",
   "nbconvert_exporter": "python",
   "pygments_lexer": "ipython3",
   "version": "3.8.3"
  }
 },
 "nbformat": 4,
 "nbformat_minor": 4
}
