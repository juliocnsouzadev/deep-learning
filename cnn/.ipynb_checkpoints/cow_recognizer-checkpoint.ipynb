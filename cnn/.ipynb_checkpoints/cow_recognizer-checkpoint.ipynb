{
 "cells": [
  {
   "cell_type": "markdown",
   "metadata": {
    "colab_type": "text",
    "id": "iTYk-0EdutTA"
   },
   "source": [
    "# Cow vs Horse Classifier "
   ]
  },
  {
   "cell_type": "markdown",
   "metadata": {
    "colab_type": "text",
    "id": "SuB_Hu4svEml"
   },
   "source": [
    "## Import Libs"
   ]
  },
  {
   "cell_type": "code",
   "execution_count": 1,
   "metadata": {
    "colab": {},
    "colab_type": "code",
    "id": "P1UdD2g9NHGn"
   },
   "outputs": [],
   "source": [
    "import numpy as np\n",
    "import tensorflow as tf\n",
    "from keras.preprocessing import image\n",
    "import glob\n",
    "import os"
   ]
  },
  {
   "cell_type": "code",
   "execution_count": 2,
   "metadata": {
    "colab": {},
    "colab_type": "code",
    "id": "BBMBeW8KHbct"
   },
   "outputs": [
    {
     "data": {
      "text/plain": [
       "'2.2.0'"
      ]
     },
     "execution_count": 2,
     "metadata": {},
     "output_type": "execute_result"
    }
   ],
   "source": [
    "tf.__version__"
   ]
  },
  {
   "cell_type": "markdown",
   "metadata": {
    "colab_type": "text",
    "id": "XLfPDCjivPJ8"
   },
   "source": [
    "## Preprocessing Data"
   ]
  },
  {
   "cell_type": "markdown",
   "metadata": {
    "colab_type": "text",
    "id": "WtNqejES2ko6"
   },
   "source": [
    "### Definitions"
   ]
  },
  {
   "cell_type": "code",
   "execution_count": 3,
   "metadata": {
    "colab": {},
    "colab_type": "code",
    "id": "9HEvjP40lx16"
   },
   "outputs": [],
   "source": [
    "rescale_default = 1./255\n",
    "shear_range_default=0.2\n",
    "zoom_range_default=0.2\n",
    "target_size_default=(64, 64)\n",
    "batch_size_default=50\n",
    "class_mode_default='binary'\n",
    "input_shape_default = [target_size_default[0], target_size_default[1], 3]\n",
    "main_path = r'D:\\Github\\julio-repos\\datascience\\datasets\\cows-and-horses'\n",
    "train_folder = main_path + '\\\\train'\n",
    "test_folder = main_path + '\\\\test'\n",
    "validaton_folder = main_path + '\\\\validation'\n",
    "epochs_default = 30"
   ]
  },
  {
   "cell_type": "code",
   "execution_count": 4,
   "metadata": {
    "colab": {},
    "colab_type": "code",
    "id": "wAdJPs8IvS-Q"
   },
   "outputs": [],
   "source": [
    "def preprocess():\n",
    "    train_datagen = image.ImageDataGenerator(\n",
    "          rescale=rescale_default,\n",
    "          shear_range= shear_range_default,\n",
    "          zoom_range=zoom_range_default,\n",
    "          horizontal_flip=True)\n",
    "    train_set = train_datagen.flow_from_directory(\n",
    "          train_folder,\n",
    "          target_size=target_size_default,\n",
    "          batch_size=batch_size_default,\n",
    "          class_mode=class_mode_default)\n",
    "    test_datagen = image.ImageDataGenerator(rescale=rescale_default)\n",
    "    test_set = test_datagen.flow_from_directory(\n",
    "        test_folder,\n",
    "        target_size=target_size_default,\n",
    "        batch_size=batch_size_default,\n",
    "        class_mode=class_mode_default)\n",
    "    return train_set, test_set"
   ]
  },
  {
   "cell_type": "markdown",
   "metadata": {
    "colab_type": "text",
    "id": "FrbrH1D-3bWC"
   },
   "source": [
    "### Get Test And Train Sets"
   ]
  },
  {
   "cell_type": "code",
   "execution_count": 5,
   "metadata": {
    "colab": {},
    "colab_type": "code",
    "id": "AA9sZBZXLgFU"
   },
   "outputs": [
    {
     "name": "stdout",
     "output_type": "stream",
     "text": [
      "Found 3030 images belonging to 2 classes.\n",
      "Found 400 images belonging to 2 classes.\n"
     ]
    }
   ],
   "source": [
    "test_set, train_set = preprocess()"
   ]
  },
  {
   "cell_type": "markdown",
   "metadata": {
    "colab_type": "text",
    "id": "7PQAItbCvglE"
   },
   "source": [
    "## Init Model and Layers"
   ]
  },
  {
   "cell_type": "markdown",
   "metadata": {
    "colab_type": "text",
    "id": "4wgZHuhE5K9R"
   },
   "source": [
    "### Methods"
   ]
  },
  {
   "cell_type": "code",
   "execution_count": 6,
   "metadata": {
    "colab": {},
    "colab_type": "code",
    "id": "w9T9YiZYvicS"
   },
   "outputs": [],
   "source": [
    "def get_cnn():\n",
    "    cnn = tf.keras.models.Sequential()\n",
    "    return cnn\n",
    "\n",
    "def get_conv_layer(first=False):\n",
    "    if (first):\n",
    "        conv_layer = tf.keras.layers.Conv2D(\n",
    "          filters=64,\n",
    "          kernel_size = 3,\n",
    "          activation = 'relu',\n",
    "          padding='same'\n",
    "          )\n",
    "        return conv_layer\n",
    "    conv_layer = tf.keras.layers.Conv2D(\n",
    "        filters=128,\n",
    "        kernel_size = 3,\n",
    "        activation = 'relu',\n",
    "        input_shape = input_shape_default,\n",
    "        padding='same'\n",
    "        )\n",
    "    return conv_layer\n",
    "\n",
    "def get_pooling_layer():\n",
    "    max_pooling_layer = tf.keras.layers.MaxPool2D(pool_size=(4,4), strides=4, padding='valid')\n",
    "    return max_pooling_layer\n",
    "\n",
    "def add_flatten_layer(cnn):\n",
    "    cnn.add(tf.keras.layers.Flatten())\n",
    "    return cnn\n",
    "\n",
    "def get_feature_learning_layers(cnn, num_layers=2):\n",
    "    for i in range(num_layers):\n",
    "        first = i == 0\n",
    "        layer = get_conv_layer(first)\n",
    "        pooling = get_pooling_layer()\n",
    "        cnn.add(layer)\n",
    "        cnn.add(pooling)\n",
    "    if num_layers > 2 and i > 0:\n",
    "        cnn.add(tf.keras.layers.Dropout((i * 0.1) + 0.2))\n",
    "    cnn = add_flatten_layer(cnn)\n",
    "    return cnn\n",
    "    \n",
    "def add_full_connection(cnn, num_layers=1):\n",
    "    for i in range(num_layers):\n",
    "        dnn_layer = tf.keras.layers.Dense(units=128, activation='relu')\n",
    "        cnn.add(dnn_layer)\n",
    "    if num_layers > 1:\n",
    "        cnn.add(tf.keras.layers.Dropout(0.45))\n",
    "    return cnn\n",
    "\n",
    "def add_output_layer(cnn):\n",
    "    outputLayer = tf.keras.layers.Dense(units=1, activation='sigmoid')\n",
    "    cnn.add(outputLayer)\n",
    "    return cnn\n",
    "\n",
    "def build_full_model(num_feature_learning_layers=2, num_dnn_layers=1, shoudl_compile=True):\n",
    "    cnn = get_cnn()\n",
    "    cnn = get_feature_learning_layers(cnn,num_feature_learning_layers)\n",
    "    cnn = add_full_connection(cnn,num_dnn_layers)\n",
    "    cnn = add_output_layer(cnn)\n",
    "    if shoudl_compile:\n",
    "        cnn.compile(optimizer = 'adam', loss = 'binary_crossentropy', metrics = ['accuracy'])\n",
    "    return cnn\n",
    "\n",
    "def train(cnn, train_set,test_set, epochs):\n",
    "    cnn.fit(x= train_set, validation_data= test_set, epochs=epochs)"
   ]
  },
  {
   "cell_type": "markdown",
   "metadata": {
    "colab_type": "text",
    "id": "gv13ZLzrwW_1"
   },
   "source": [
    "## Build, Training and Evaluating"
   ]
  },
  {
   "cell_type": "code",
   "execution_count": 7,
   "metadata": {
    "colab": {},
    "colab_type": "code",
    "id": "VLs8LnSfwdCT"
   },
   "outputs": [
    {
     "name": "stdout",
     "output_type": "stream",
     "text": [
      "Epoch 1/30\n",
      "8/8 [==============================] - 8s 977ms/step - loss: 0.7018 - accuracy: 0.5050 - val_loss: 0.6959 - val_accuracy: 0.5000\n",
      "Epoch 2/30\n",
      "8/8 [==============================] - 8s 991ms/step - loss: 0.6979 - accuracy: 0.5000 - val_loss: 0.6921 - val_accuracy: 0.5023\n",
      "Epoch 3/30\n",
      "8/8 [==============================] - 8s 996ms/step - loss: 0.6900 - accuracy: 0.5225 - val_loss: 0.6917 - val_accuracy: 0.5109\n",
      "Epoch 4/30\n",
      "8/8 [==============================] - 8s 1s/step - loss: 0.6848 - accuracy: 0.5475 - val_loss: 0.6899 - val_accuracy: 0.5667\n",
      "Epoch 5/30\n",
      "8/8 [==============================] - 8s 993ms/step - loss: 0.6845 - accuracy: 0.5575 - val_loss: 0.6848 - val_accuracy: 0.6145\n",
      "Epoch 6/30\n",
      "8/8 [==============================] - 8s 1s/step - loss: 0.6775 - accuracy: 0.5900 - val_loss: 0.6764 - val_accuracy: 0.6389\n",
      "Epoch 7/30\n",
      "8/8 [==============================] - 8s 1s/step - loss: 0.6719 - accuracy: 0.6000 - val_loss: 0.6677 - val_accuracy: 0.6436\n",
      "Epoch 8/30\n",
      "8/8 [==============================] - 9s 1s/step - loss: 0.6604 - accuracy: 0.6025 - val_loss: 0.6608 - val_accuracy: 0.6495\n",
      "Epoch 9/30\n",
      "8/8 [==============================] - 8s 1s/step - loss: 0.6227 - accuracy: 0.6575 - val_loss: 0.6578 - val_accuracy: 0.5957\n",
      "Epoch 10/30\n",
      "8/8 [==============================] - 8s 1s/step - loss: 0.6052 - accuracy: 0.6625 - val_loss: 0.6324 - val_accuracy: 0.6452\n",
      "Epoch 11/30\n",
      "8/8 [==============================] - 8s 1s/step - loss: 0.5675 - accuracy: 0.7250 - val_loss: 0.6327 - val_accuracy: 0.6485\n",
      "Epoch 12/30\n",
      "8/8 [==============================] - 8s 1s/step - loss: 0.5572 - accuracy: 0.7300 - val_loss: 0.6471 - val_accuracy: 0.6234\n",
      "Epoch 13/30\n",
      "8/8 [==============================] - 8s 1s/step - loss: 0.5592 - accuracy: 0.7125 - val_loss: 0.6665 - val_accuracy: 0.5894\n",
      "Epoch 14/30\n",
      "8/8 [==============================] - 8s 1s/step - loss: 0.5281 - accuracy: 0.7400 - val_loss: 0.7078 - val_accuracy: 0.5677\n",
      "Epoch 15/30\n",
      "8/8 [==============================] - 8s 1s/step - loss: 0.5333 - accuracy: 0.7350 - val_loss: 0.6804 - val_accuracy: 0.5822\n",
      "Epoch 16/30\n",
      "8/8 [==============================] - 8s 1s/step - loss: 0.4637 - accuracy: 0.7825 - val_loss: 0.6429 - val_accuracy: 0.6261\n",
      "Epoch 17/30\n",
      "8/8 [==============================] - 9s 1s/step - loss: 0.4402 - accuracy: 0.8000 - val_loss: 0.6130 - val_accuracy: 0.6545\n",
      "Epoch 18/30\n",
      "8/8 [==============================] - 8s 1s/step - loss: 0.3914 - accuracy: 0.8550 - val_loss: 0.5881 - val_accuracy: 0.6842\n",
      "Epoch 19/30\n",
      "8/8 [==============================] - 9s 1s/step - loss: 0.3313 - accuracy: 0.8600 - val_loss: 0.6395 - val_accuracy: 0.6617\n",
      "Epoch 20/30\n",
      "8/8 [==============================] - 9s 1s/step - loss: 0.2836 - accuracy: 0.9050 - val_loss: 0.5930 - val_accuracy: 0.6947\n",
      "Epoch 21/30\n",
      "8/8 [==============================] - 9s 1s/step - loss: 0.2564 - accuracy: 0.9050 - val_loss: 0.6170 - val_accuracy: 0.6703\n",
      "Epoch 22/30\n",
      "8/8 [==============================] - 9s 1s/step - loss: 0.2252 - accuracy: 0.9300 - val_loss: 0.5924 - val_accuracy: 0.6888\n",
      "Epoch 23/30\n",
      "8/8 [==============================] - 9s 1s/step - loss: 0.1797 - accuracy: 0.9425 - val_loss: 0.6578 - val_accuracy: 0.6848\n",
      "Epoch 24/30\n",
      "8/8 [==============================] - 9s 1s/step - loss: 0.1258 - accuracy: 0.9700 - val_loss: 0.8693 - val_accuracy: 0.6502\n",
      "Epoch 25/30\n",
      "8/8 [==============================] - 9s 1s/step - loss: 0.1529 - accuracy: 0.9450 - val_loss: 0.6269 - val_accuracy: 0.7119\n",
      "Epoch 26/30\n",
      "8/8 [==============================] - 9s 1s/step - loss: 0.1230 - accuracy: 0.9625 - val_loss: 0.6230 - val_accuracy: 0.7059\n",
      "Epoch 27/30\n",
      "8/8 [==============================] - 9s 1s/step - loss: 0.0628 - accuracy: 0.9950 - val_loss: 0.7990 - val_accuracy: 0.6782\n",
      "Epoch 28/30\n",
      "8/8 [==============================] - 9s 1s/step - loss: 0.0620 - accuracy: 0.9850 - val_loss: 0.8321 - val_accuracy: 0.6871\n",
      "Epoch 29/30\n",
      "8/8 [==============================] - 9s 1s/step - loss: 0.0379 - accuracy: 0.9975 - val_loss: 0.8169 - val_accuracy: 0.6891\n",
      "Epoch 30/30\n",
      "8/8 [==============================] - 9s 1s/step - loss: 0.0459 - accuracy: 0.9875 - val_loss: 0.8827 - val_accuracy: 0.6881\n"
     ]
    }
   ],
   "source": [
    "cnn = build_full_model(num_feature_learning_layers=3, num_dnn_layers=1)\n",
    "train(cnn, train_set,test_set, epochs_default)"
   ]
  },
  {
   "cell_type": "markdown",
   "metadata": {
    "colab_type": "text",
    "id": "szGWKZ70wdvl"
   },
   "source": [
    "## Predictions"
   ]
  },
  {
   "cell_type": "code",
   "execution_count": 8,
   "metadata": {
    "colab": {},
    "colab_type": "code",
    "id": "hxBqoUyowg4K"
   },
   "outputs": [],
   "source": [
    "def predict_item(model, image_path, target_size):\n",
    "    image_predict = image.load_img(image_path, target_size= target_size)\n",
    "    image_predict = image.img_to_array(image_predict)\n",
    "    image_predict = np.expand_dims(image_predict,axis=0)  # Convert single image to a batch.\n",
    "    predictions = model.predict(image_predict)\n",
    "    return predictions\n",
    "\n",
    "def predict_class(train_set, predictions):\n",
    "    indices = train_set.class_indices\n",
    "    reverse_indices = {}\n",
    "    for x, y in indices.items():\n",
    "        reverse_indices[str(y)] = x\n",
    "    idx = int(predictions[0][0])\n",
    "    return reverse_indices[str(idx)]\n",
    "\n",
    "def predict_many(model, train_set, folder_path, target_size, expected_class):\n",
    "    images_paths = glob.glob(folder_path)\n",
    "    predictions_list = []\n",
    "    for image_path in images_paths:\n",
    "        predictions = predict_item(model, image_path, target_size)\n",
    "        class_predicted = predict_class(train_set, predictions)\n",
    "        prediction = {\n",
    "            'expected':expected_class.lower(),\n",
    "            'found': class_predicted.lower(),\n",
    "            'got_it_rigth': expected_class.lower() == class_predicted.lower()\n",
    "            }\n",
    "        predictions_list.append(prediction)\n",
    "    return predictions_list\n",
    "\n",
    "def print_predictions(predictions_list):\n",
    "    rights = filter(lambda item: item['got_it_rigth'] == True, predictions_list)\n",
    "    _percent_right = len(list(rights)) / len(predictions_list)\n",
    "    print(\"% righs {}\".format(_percent_right * 100))\n",
    "    for idx, item in enumerate(predictions_list):\n",
    "        print(\"#{} Expected: {} - Found: {} - Right? {}\".format(idx,item['expected'], item['found'], item['got_it_rigth']))"
   ]
  },
  {
   "cell_type": "code",
   "execution_count": 9,
   "metadata": {
    "colab": {},
    "colab_type": "code",
    "id": "G8aoTBFIP7Tr"
   },
   "outputs": [],
   "source": [
    "validation_cows = validaton_folder + '/cows/*'\n",
    "validation_horses = validaton_folder + '/horses/*'"
   ]
  },
  {
   "cell_type": "code",
   "execution_count": 10,
   "metadata": {
    "colab": {},
    "colab_type": "code",
    "id": "qaXD08RhYw25"
   },
   "outputs": [],
   "source": [
    "cows_result = predict_many(cnn, train_set, validation_cows, target_size_default,'cows')\n",
    "horses_result = predict_many(cnn, train_set, validation_horses, target_size_default,'horses')"
   ]
  },
  {
   "cell_type": "code",
   "execution_count": 11,
   "metadata": {
    "colab": {},
    "colab_type": "code",
    "id": "ZEFX1FfGRMtD"
   },
   "outputs": [
    {
     "name": "stdout",
     "output_type": "stream",
     "text": [
      "% righs 91.3907284768212\n",
      "#0 Expected: cows - Found: horses - Right? False\n",
      "#1 Expected: cows - Found: cows - Right? True\n",
      "#2 Expected: cows - Found: cows - Right? True\n",
      "#3 Expected: cows - Found: cows - Right? True\n",
      "#4 Expected: cows - Found: cows - Right? True\n",
      "#5 Expected: cows - Found: cows - Right? True\n",
      "#6 Expected: cows - Found: cows - Right? True\n",
      "#7 Expected: cows - Found: cows - Right? True\n",
      "#8 Expected: cows - Found: cows - Right? True\n",
      "#9 Expected: cows - Found: cows - Right? True\n",
      "#10 Expected: cows - Found: cows - Right? True\n",
      "#11 Expected: cows - Found: cows - Right? True\n",
      "#12 Expected: cows - Found: cows - Right? True\n",
      "#13 Expected: cows - Found: cows - Right? True\n",
      "#14 Expected: cows - Found: cows - Right? True\n",
      "#15 Expected: cows - Found: cows - Right? True\n",
      "#16 Expected: cows - Found: cows - Right? True\n",
      "#17 Expected: cows - Found: cows - Right? True\n",
      "#18 Expected: cows - Found: cows - Right? True\n",
      "#19 Expected: cows - Found: cows - Right? True\n",
      "#20 Expected: cows - Found: cows - Right? True\n",
      "#21 Expected: cows - Found: cows - Right? True\n",
      "#22 Expected: cows - Found: cows - Right? True\n",
      "#23 Expected: cows - Found: cows - Right? True\n",
      "#24 Expected: cows - Found: cows - Right? True\n",
      "#25 Expected: cows - Found: cows - Right? True\n",
      "#26 Expected: cows - Found: cows - Right? True\n",
      "#27 Expected: cows - Found: cows - Right? True\n",
      "#28 Expected: cows - Found: cows - Right? True\n",
      "#29 Expected: cows - Found: cows - Right? True\n",
      "#30 Expected: cows - Found: cows - Right? True\n",
      "#31 Expected: cows - Found: cows - Right? True\n",
      "#32 Expected: cows - Found: cows - Right? True\n",
      "#33 Expected: cows - Found: cows - Right? True\n",
      "#34 Expected: cows - Found: cows - Right? True\n",
      "#35 Expected: cows - Found: cows - Right? True\n",
      "#36 Expected: cows - Found: cows - Right? True\n",
      "#37 Expected: cows - Found: cows - Right? True\n",
      "#38 Expected: cows - Found: cows - Right? True\n",
      "#39 Expected: cows - Found: cows - Right? True\n",
      "#40 Expected: cows - Found: cows - Right? True\n",
      "#41 Expected: cows - Found: cows - Right? True\n",
      "#42 Expected: cows - Found: cows - Right? True\n",
      "#43 Expected: cows - Found: cows - Right? True\n",
      "#44 Expected: cows - Found: cows - Right? True\n",
      "#45 Expected: cows - Found: cows - Right? True\n",
      "#46 Expected: cows - Found: cows - Right? True\n",
      "#47 Expected: cows - Found: cows - Right? True\n",
      "#48 Expected: cows - Found: cows - Right? True\n",
      "#49 Expected: cows - Found: cows - Right? True\n",
      "#50 Expected: cows - Found: cows - Right? True\n",
      "#51 Expected: cows - Found: cows - Right? True\n",
      "#52 Expected: cows - Found: cows - Right? True\n",
      "#53 Expected: cows - Found: cows - Right? True\n",
      "#54 Expected: cows - Found: cows - Right? True\n",
      "#55 Expected: cows - Found: cows - Right? True\n",
      "#56 Expected: cows - Found: horses - Right? False\n",
      "#57 Expected: cows - Found: cows - Right? True\n",
      "#58 Expected: cows - Found: cows - Right? True\n",
      "#59 Expected: cows - Found: horses - Right? False\n",
      "#60 Expected: cows - Found: cows - Right? True\n",
      "#61 Expected: cows - Found: horses - Right? False\n",
      "#62 Expected: cows - Found: cows - Right? True\n",
      "#63 Expected: cows - Found: cows - Right? True\n",
      "#64 Expected: cows - Found: cows - Right? True\n",
      "#65 Expected: cows - Found: cows - Right? True\n",
      "#66 Expected: cows - Found: cows - Right? True\n",
      "#67 Expected: cows - Found: horses - Right? False\n",
      "#68 Expected: cows - Found: cows - Right? True\n",
      "#69 Expected: cows - Found: cows - Right? True\n",
      "#70 Expected: cows - Found: cows - Right? True\n",
      "#71 Expected: cows - Found: cows - Right? True\n",
      "#72 Expected: cows - Found: cows - Right? True\n",
      "#73 Expected: cows - Found: cows - Right? True\n",
      "#74 Expected: cows - Found: cows - Right? True\n",
      "#75 Expected: cows - Found: cows - Right? True\n",
      "#76 Expected: cows - Found: cows - Right? True\n",
      "#77 Expected: cows - Found: cows - Right? True\n",
      "#78 Expected: cows - Found: cows - Right? True\n",
      "#79 Expected: cows - Found: cows - Right? True\n",
      "#80 Expected: cows - Found: cows - Right? True\n",
      "#81 Expected: cows - Found: cows - Right? True\n",
      "#82 Expected: cows - Found: cows - Right? True\n",
      "#83 Expected: cows - Found: cows - Right? True\n",
      "#84 Expected: cows - Found: cows - Right? True\n",
      "#85 Expected: cows - Found: cows - Right? True\n",
      "#86 Expected: cows - Found: cows - Right? True\n",
      "#87 Expected: cows - Found: cows - Right? True\n",
      "#88 Expected: cows - Found: cows - Right? True\n",
      "#89 Expected: cows - Found: cows - Right? True\n",
      "#90 Expected: cows - Found: cows - Right? True\n",
      "#91 Expected: cows - Found: cows - Right? True\n",
      "#92 Expected: cows - Found: horses - Right? False\n",
      "#93 Expected: cows - Found: horses - Right? False\n",
      "#94 Expected: cows - Found: cows - Right? True\n",
      "#95 Expected: cows - Found: cows - Right? True\n",
      "#96 Expected: cows - Found: horses - Right? False\n",
      "#97 Expected: cows - Found: horses - Right? False\n",
      "#98 Expected: cows - Found: cows - Right? True\n",
      "#99 Expected: cows - Found: cows - Right? True\n",
      "#100 Expected: cows - Found: cows - Right? True\n",
      "#101 Expected: cows - Found: cows - Right? True\n",
      "#102 Expected: cows - Found: cows - Right? True\n",
      "#103 Expected: cows - Found: cows - Right? True\n",
      "#104 Expected: cows - Found: cows - Right? True\n",
      "#105 Expected: cows - Found: cows - Right? True\n",
      "#106 Expected: cows - Found: cows - Right? True\n",
      "#107 Expected: cows - Found: cows - Right? True\n",
      "#108 Expected: cows - Found: cows - Right? True\n",
      "#109 Expected: cows - Found: cows - Right? True\n",
      "#110 Expected: cows - Found: cows - Right? True\n",
      "#111 Expected: cows - Found: cows - Right? True\n",
      "#112 Expected: cows - Found: cows - Right? True\n",
      "#113 Expected: cows - Found: cows - Right? True\n",
      "#114 Expected: cows - Found: cows - Right? True\n",
      "#115 Expected: cows - Found: cows - Right? True\n",
      "#116 Expected: cows - Found: cows - Right? True\n",
      "#117 Expected: cows - Found: cows - Right? True\n",
      "#118 Expected: cows - Found: cows - Right? True\n",
      "#119 Expected: cows - Found: cows - Right? True\n",
      "#120 Expected: cows - Found: cows - Right? True\n",
      "#121 Expected: cows - Found: cows - Right? True\n",
      "#122 Expected: cows - Found: cows - Right? True\n",
      "#123 Expected: cows - Found: cows - Right? True\n",
      "#124 Expected: cows - Found: horses - Right? False\n",
      "#125 Expected: cows - Found: cows - Right? True\n",
      "#126 Expected: cows - Found: cows - Right? True\n",
      "#127 Expected: cows - Found: cows - Right? True\n",
      "#128 Expected: cows - Found: cows - Right? True\n",
      "#129 Expected: cows - Found: horses - Right? False\n",
      "#130 Expected: cows - Found: cows - Right? True\n",
      "#131 Expected: cows - Found: cows - Right? True\n",
      "#132 Expected: cows - Found: cows - Right? True\n",
      "#133 Expected: cows - Found: cows - Right? True\n",
      "#134 Expected: cows - Found: cows - Right? True\n",
      "#135 Expected: cows - Found: cows - Right? True\n",
      "#136 Expected: cows - Found: cows - Right? True\n",
      "#137 Expected: cows - Found: cows - Right? True\n",
      "#138 Expected: cows - Found: cows - Right? True\n",
      "#139 Expected: cows - Found: cows - Right? True\n",
      "#140 Expected: cows - Found: cows - Right? True\n",
      "#141 Expected: cows - Found: cows - Right? True\n",
      "#142 Expected: cows - Found: cows - Right? True\n",
      "#143 Expected: cows - Found: horses - Right? False\n",
      "#144 Expected: cows - Found: cows - Right? True\n",
      "#145 Expected: cows - Found: cows - Right? True\n",
      "#146 Expected: cows - Found: cows - Right? True\n",
      "#147 Expected: cows - Found: cows - Right? True\n",
      "#148 Expected: cows - Found: cows - Right? True\n",
      "#149 Expected: cows - Found: horses - Right? False\n",
      "#150 Expected: cows - Found: cows - Right? True\n"
     ]
    }
   ],
   "source": [
    "print_predictions(cows_result)"
   ]
  },
  {
   "cell_type": "code",
   "execution_count": 12,
   "metadata": {
    "colab": {},
    "colab_type": "code",
    "id": "NqzPaWTTi78S"
   },
   "outputs": [
    {
     "name": "stdout",
     "output_type": "stream",
     "text": [
      "% righs 55.66502463054187\n",
      "#0 Expected: horses - Found: horses - Right? True\n",
      "#1 Expected: horses - Found: horses - Right? True\n",
      "#2 Expected: horses - Found: horses - Right? True\n",
      "#3 Expected: horses - Found: horses - Right? True\n",
      "#4 Expected: horses - Found: cows - Right? False\n",
      "#5 Expected: horses - Found: cows - Right? False\n",
      "#6 Expected: horses - Found: horses - Right? True\n",
      "#7 Expected: horses - Found: cows - Right? False\n",
      "#8 Expected: horses - Found: horses - Right? True\n",
      "#9 Expected: horses - Found: cows - Right? False\n",
      "#10 Expected: horses - Found: horses - Right? True\n",
      "#11 Expected: horses - Found: horses - Right? True\n",
      "#12 Expected: horses - Found: horses - Right? True\n",
      "#13 Expected: horses - Found: cows - Right? False\n",
      "#14 Expected: horses - Found: cows - Right? False\n",
      "#15 Expected: horses - Found: cows - Right? False\n",
      "#16 Expected: horses - Found: cows - Right? False\n",
      "#17 Expected: horses - Found: horses - Right? True\n",
      "#18 Expected: horses - Found: horses - Right? True\n",
      "#19 Expected: horses - Found: cows - Right? False\n",
      "#20 Expected: horses - Found: cows - Right? False\n",
      "#21 Expected: horses - Found: cows - Right? False\n",
      "#22 Expected: horses - Found: cows - Right? False\n",
      "#23 Expected: horses - Found: horses - Right? True\n",
      "#24 Expected: horses - Found: cows - Right? False\n",
      "#25 Expected: horses - Found: horses - Right? True\n",
      "#26 Expected: horses - Found: cows - Right? False\n",
      "#27 Expected: horses - Found: horses - Right? True\n",
      "#28 Expected: horses - Found: horses - Right? True\n",
      "#29 Expected: horses - Found: cows - Right? False\n",
      "#30 Expected: horses - Found: horses - Right? True\n",
      "#31 Expected: horses - Found: horses - Right? True\n",
      "#32 Expected: horses - Found: cows - Right? False\n",
      "#33 Expected: horses - Found: cows - Right? False\n",
      "#34 Expected: horses - Found: horses - Right? True\n",
      "#35 Expected: horses - Found: cows - Right? False\n",
      "#36 Expected: horses - Found: horses - Right? True\n",
      "#37 Expected: horses - Found: horses - Right? True\n",
      "#38 Expected: horses - Found: horses - Right? True\n",
      "#39 Expected: horses - Found: horses - Right? True\n",
      "#40 Expected: horses - Found: horses - Right? True\n",
      "#41 Expected: horses - Found: horses - Right? True\n",
      "#42 Expected: horses - Found: cows - Right? False\n",
      "#43 Expected: horses - Found: horses - Right? True\n",
      "#44 Expected: horses - Found: horses - Right? True\n",
      "#45 Expected: horses - Found: cows - Right? False\n",
      "#46 Expected: horses - Found: cows - Right? False\n",
      "#47 Expected: horses - Found: cows - Right? False\n",
      "#48 Expected: horses - Found: cows - Right? False\n",
      "#49 Expected: horses - Found: cows - Right? False\n",
      "#50 Expected: horses - Found: horses - Right? True\n",
      "#51 Expected: horses - Found: horses - Right? True\n",
      "#52 Expected: horses - Found: horses - Right? True\n",
      "#53 Expected: horses - Found: cows - Right? False\n",
      "#54 Expected: horses - Found: cows - Right? False\n",
      "#55 Expected: horses - Found: cows - Right? False\n",
      "#56 Expected: horses - Found: horses - Right? True\n",
      "#57 Expected: horses - Found: cows - Right? False\n",
      "#58 Expected: horses - Found: cows - Right? False\n",
      "#59 Expected: horses - Found: cows - Right? False\n",
      "#60 Expected: horses - Found: horses - Right? True\n",
      "#61 Expected: horses - Found: horses - Right? True\n",
      "#62 Expected: horses - Found: horses - Right? True\n",
      "#63 Expected: horses - Found: horses - Right? True\n",
      "#64 Expected: horses - Found: horses - Right? True\n",
      "#65 Expected: horses - Found: horses - Right? True\n",
      "#66 Expected: horses - Found: cows - Right? False\n",
      "#67 Expected: horses - Found: horses - Right? True\n",
      "#68 Expected: horses - Found: horses - Right? True\n",
      "#69 Expected: horses - Found: cows - Right? False\n",
      "#70 Expected: horses - Found: cows - Right? False\n",
      "#71 Expected: horses - Found: horses - Right? True\n",
      "#72 Expected: horses - Found: horses - Right? True\n",
      "#73 Expected: horses - Found: horses - Right? True\n",
      "#74 Expected: horses - Found: horses - Right? True\n",
      "#75 Expected: horses - Found: cows - Right? False\n",
      "#76 Expected: horses - Found: horses - Right? True\n",
      "#77 Expected: horses - Found: cows - Right? False\n",
      "#78 Expected: horses - Found: horses - Right? True\n",
      "#79 Expected: horses - Found: horses - Right? True\n",
      "#80 Expected: horses - Found: horses - Right? True\n",
      "#81 Expected: horses - Found: cows - Right? False\n",
      "#82 Expected: horses - Found: horses - Right? True\n",
      "#83 Expected: horses - Found: cows - Right? False\n",
      "#84 Expected: horses - Found: horses - Right? True\n",
      "#85 Expected: horses - Found: horses - Right? True\n",
      "#86 Expected: horses - Found: cows - Right? False\n",
      "#87 Expected: horses - Found: horses - Right? True\n",
      "#88 Expected: horses - Found: cows - Right? False\n",
      "#89 Expected: horses - Found: cows - Right? False\n",
      "#90 Expected: horses - Found: cows - Right? False\n",
      "#91 Expected: horses - Found: cows - Right? False\n",
      "#92 Expected: horses - Found: cows - Right? False\n",
      "#93 Expected: horses - Found: horses - Right? True\n",
      "#94 Expected: horses - Found: horses - Right? True\n",
      "#95 Expected: horses - Found: horses - Right? True\n",
      "#96 Expected: horses - Found: horses - Right? True\n",
      "#97 Expected: horses - Found: horses - Right? True\n",
      "#98 Expected: horses - Found: horses - Right? True\n",
      "#99 Expected: horses - Found: horses - Right? True\n",
      "#100 Expected: horses - Found: horses - Right? True\n",
      "#101 Expected: horses - Found: horses - Right? True\n",
      "#102 Expected: horses - Found: cows - Right? False\n",
      "#103 Expected: horses - Found: cows - Right? False\n",
      "#104 Expected: horses - Found: cows - Right? False\n",
      "#105 Expected: horses - Found: horses - Right? True\n",
      "#106 Expected: horses - Found: cows - Right? False\n",
      "#107 Expected: horses - Found: cows - Right? False\n",
      "#108 Expected: horses - Found: cows - Right? False\n",
      "#109 Expected: horses - Found: horses - Right? True\n",
      "#110 Expected: horses - Found: horses - Right? True\n",
      "#111 Expected: horses - Found: horses - Right? True\n",
      "#112 Expected: horses - Found: horses - Right? True\n",
      "#113 Expected: horses - Found: horses - Right? True\n",
      "#114 Expected: horses - Found: cows - Right? False\n",
      "#115 Expected: horses - Found: cows - Right? False\n",
      "#116 Expected: horses - Found: cows - Right? False\n",
      "#117 Expected: horses - Found: cows - Right? False\n",
      "#118 Expected: horses - Found: horses - Right? True\n",
      "#119 Expected: horses - Found: horses - Right? True\n",
      "#120 Expected: horses - Found: horses - Right? True\n",
      "#121 Expected: horses - Found: cows - Right? False\n",
      "#122 Expected: horses - Found: cows - Right? False\n",
      "#123 Expected: horses - Found: horses - Right? True\n",
      "#124 Expected: horses - Found: horses - Right? True\n",
      "#125 Expected: horses - Found: cows - Right? False\n",
      "#126 Expected: horses - Found: cows - Right? False\n",
      "#127 Expected: horses - Found: cows - Right? False\n",
      "#128 Expected: horses - Found: horses - Right? True\n",
      "#129 Expected: horses - Found: horses - Right? True\n",
      "#130 Expected: horses - Found: cows - Right? False\n",
      "#131 Expected: horses - Found: horses - Right? True\n",
      "#132 Expected: horses - Found: cows - Right? False\n",
      "#133 Expected: horses - Found: horses - Right? True\n",
      "#134 Expected: horses - Found: cows - Right? False\n",
      "#135 Expected: horses - Found: horses - Right? True\n",
      "#136 Expected: horses - Found: horses - Right? True\n",
      "#137 Expected: horses - Found: cows - Right? False\n",
      "#138 Expected: horses - Found: horses - Right? True\n",
      "#139 Expected: horses - Found: cows - Right? False\n",
      "#140 Expected: horses - Found: horses - Right? True\n",
      "#141 Expected: horses - Found: horses - Right? True\n",
      "#142 Expected: horses - Found: cows - Right? False\n",
      "#143 Expected: horses - Found: horses - Right? True\n",
      "#144 Expected: horses - Found: cows - Right? False\n",
      "#145 Expected: horses - Found: horses - Right? True\n",
      "#146 Expected: horses - Found: horses - Right? True\n",
      "#147 Expected: horses - Found: cows - Right? False\n",
      "#148 Expected: horses - Found: horses - Right? True\n",
      "#149 Expected: horses - Found: horses - Right? True\n",
      "#150 Expected: horses - Found: horses - Right? True\n",
      "#151 Expected: horses - Found: horses - Right? True\n",
      "#152 Expected: horses - Found: horses - Right? True\n",
      "#153 Expected: horses - Found: horses - Right? True\n",
      "#154 Expected: horses - Found: cows - Right? False\n",
      "#155 Expected: horses - Found: cows - Right? False\n",
      "#156 Expected: horses - Found: horses - Right? True\n",
      "#157 Expected: horses - Found: horses - Right? True\n",
      "#158 Expected: horses - Found: horses - Right? True\n",
      "#159 Expected: horses - Found: cows - Right? False\n",
      "#160 Expected: horses - Found: horses - Right? True\n",
      "#161 Expected: horses - Found: cows - Right? False\n",
      "#162 Expected: horses - Found: cows - Right? False\n",
      "#163 Expected: horses - Found: cows - Right? False\n",
      "#164 Expected: horses - Found: cows - Right? False\n",
      "#165 Expected: horses - Found: cows - Right? False\n",
      "#166 Expected: horses - Found: cows - Right? False\n",
      "#167 Expected: horses - Found: horses - Right? True\n",
      "#168 Expected: horses - Found: horses - Right? True\n",
      "#169 Expected: horses - Found: horses - Right? True\n",
      "#170 Expected: horses - Found: horses - Right? True\n",
      "#171 Expected: horses - Found: cows - Right? False\n",
      "#172 Expected: horses - Found: cows - Right? False\n",
      "#173 Expected: horses - Found: cows - Right? False\n",
      "#174 Expected: horses - Found: horses - Right? True\n",
      "#175 Expected: horses - Found: horses - Right? True\n",
      "#176 Expected: horses - Found: cows - Right? False\n",
      "#177 Expected: horses - Found: horses - Right? True\n",
      "#178 Expected: horses - Found: horses - Right? True\n",
      "#179 Expected: horses - Found: cows - Right? False\n",
      "#180 Expected: horses - Found: cows - Right? False\n",
      "#181 Expected: horses - Found: horses - Right? True\n",
      "#182 Expected: horses - Found: horses - Right? True\n",
      "#183 Expected: horses - Found: horses - Right? True\n",
      "#184 Expected: horses - Found: cows - Right? False\n",
      "#185 Expected: horses - Found: horses - Right? True\n",
      "#186 Expected: horses - Found: cows - Right? False\n",
      "#187 Expected: horses - Found: horses - Right? True\n",
      "#188 Expected: horses - Found: horses - Right? True\n",
      "#189 Expected: horses - Found: cows - Right? False\n",
      "#190 Expected: horses - Found: cows - Right? False\n",
      "#191 Expected: horses - Found: horses - Right? True\n",
      "#192 Expected: horses - Found: cows - Right? False\n",
      "#193 Expected: horses - Found: horses - Right? True\n",
      "#194 Expected: horses - Found: cows - Right? False\n",
      "#195 Expected: horses - Found: horses - Right? True\n",
      "#196 Expected: horses - Found: horses - Right? True\n",
      "#197 Expected: horses - Found: horses - Right? True\n",
      "#198 Expected: horses - Found: cows - Right? False\n",
      "#199 Expected: horses - Found: cows - Right? False\n",
      "#200 Expected: horses - Found: horses - Right? True\n",
      "#201 Expected: horses - Found: horses - Right? True\n",
      "#202 Expected: horses - Found: cows - Right? False\n"
     ]
    }
   ],
   "source": [
    "print_predictions(horses_result)"
   ]
  },
  {
   "cell_type": "code",
   "execution_count": null,
   "metadata": {},
   "outputs": [],
   "source": []
  }
 ],
 "metadata": {
  "accelerator": "TPU",
  "colab": {
   "collapsed_sections": [],
   "name": "animals_classifier",
   "private_outputs": true,
   "provenance": []
  },
  "kernelspec": {
   "display_name": "Python 3",
   "language": "python",
   "name": "python3"
  },
  "language_info": {
   "codemirror_mode": {
    "name": "ipython",
    "version": 3
   },
   "file_extension": ".py",
   "mimetype": "text/x-python",
   "name": "python",
   "nbconvert_exporter": "python",
   "pygments_lexer": "ipython3",
   "version": "3.8.3"
  }
 },
 "nbformat": 4,
 "nbformat_minor": 1
}
