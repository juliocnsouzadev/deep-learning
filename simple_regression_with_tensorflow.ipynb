{
  "nbformat": 4,
  "nbformat_minor": 0,
  "metadata": {
    "colab": {
      "provenance": [],
      "authorship_tag": "ABX9TyNkikIkRKOxlnPNQq+EKdZ8",
      "include_colab_link": true
    },
    "kernelspec": {
      "name": "python3",
      "display_name": "Python 3"
    },
    "language_info": {
      "name": "python"
    }
  },
  "cells": [
    {
      "cell_type": "markdown",
      "metadata": {
        "id": "view-in-github",
        "colab_type": "text"
      },
      "source": [
        "<a href=\"https://colab.research.google.com/github/juliocnsouzadev/deep-learning/blob/simple-regression/simple_regression_with_tensorflow.ipynb\" target=\"_parent\"><img src=\"https://colab.research.google.com/assets/colab-badge.svg\" alt=\"Open In Colab\"/></a>"
      ]
    },
    {
      "cell_type": "markdown",
      "source": [
        "# Regression Tensorflow \n",
        "![regression2.png](data:image/png;base64,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)"
      ],
      "metadata": {
        "id": "VkuIBpImBgVW"
      }
    },
    {
      "cell_type": "code",
      "execution_count": 20,
      "metadata": {
        "colab": {
          "base_uri": "https://localhost:8080/"
        },
        "id": "5BtZ2JYeSW3E",
        "outputId": "01dcdde3-1f8f-4085-edfe-52ee8d6c3d20"
      },
      "outputs": [
        {
          "output_type": "stream",
          "name": "stdout",
          "text": [
            "2.11.0\n"
          ]
        }
      ],
      "source": [
        "# Imports\n",
        "import tensorflow as tf\n",
        "import numpy as np\n",
        "import matplotlib.pyplot as plt\n",
        "from tensorflow.keras.utils import plot_model\n",
        "print(tf.__version__)"
      ]
    },
    {
      "cell_type": "markdown",
      "source": [
        "## Setting seed to maintain reproducibility "
      ],
      "metadata": {
        "id": "l-GPMQyxCLYZ"
      }
    },
    {
      "cell_type": "code",
      "source": [
        "tf.random.set_seed(42)"
      ],
      "metadata": {
        "id": "a79hFTuSCRpg"
      },
      "execution_count": 21,
      "outputs": []
    },
    {
      "cell_type": "markdown",
      "source": [
        "## Creating a super simple (shitty) model\n",
        "![harold.jpg](data:image/jpeg;base64,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)"
      ],
      "metadata": {
        "id": "hzYXe_kvFkFM"
      }
    },
    {
      "cell_type": "markdown",
      "source": [
        "### Creating some data"
      ],
      "metadata": {
        "id": "NwgOLFMZDVGC"
      }
    },
    {
      "cell_type": "code",
      "source": [
        "X = np.array([-7.0, -4.0, -1.0, 2.0, 5.0, 8.0, 11.0, 14.0])\n",
        "y = np.array([3.0, 6.0, 9.0, 12.0, 15.0, 18.0, 21.0, 24.0])"
      ],
      "metadata": {
        "id": "EXHAh-I4S_C3"
      },
      "execution_count": 22,
      "outputs": []
    },
    {
      "cell_type": "markdown",
      "source": [
        "### ![data-visualisation.png](data:image/png;base64,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) Visualising the Data "
      ],
      "metadata": {
        "id": "h5IIMQPZF5-a"
      }
    },
    {
      "cell_type": "code",
      "source": [
        "plt.scatter(X,y) "
      ],
      "metadata": {
        "colab": {
          "base_uri": "https://localhost:8080/",
          "height": 286
        },
        "id": "yhkJ8QELCmqB",
        "outputId": "9a69867e-763b-4d6a-ab74-7829db2c4cbf"
      },
      "execution_count": 23,
      "outputs": [
        {
          "output_type": "execute_result",
          "data": {
            "text/plain": [
              "<matplotlib.collections.PathCollection at 0x7f5d317f5eb0>"
            ]
          },
          "metadata": {},
          "execution_count": 23
        },
        {
          "output_type": "display_data",
          "data": {
            "text/plain": [
              "<Figure size 432x288 with 1 Axes>"
            ],
            "image/png": "[encoded data removed]"
          },
          "metadata": {
            "needs_background": "light"
          }
        }
      ]
    },
    {
      "cell_type": "markdown",
      "source": [
        "### The model"
      ],
      "metadata": {
        "id": "riWgnGfDG53H"
      }
    },
    {
      "cell_type": "code",
      "source": [
        "# Converting data to tensors\n",
        "X = tf.cast(tf.constant(X), dtype=tf.float32)\n",
        "y = tf.cast(tf.constant(y), dtype=tf.float32)"
      ],
      "metadata": {
        "id": "uNHtkt67T3F7"
      },
      "execution_count": 25,
      "outputs": []
    },
    {
      "cell_type": "code",
      "source": [
        "model = tf.keras.Sequential([\n",
        "    tf.keras.layers.Dense(1)\n",
        "])\n",
        "model.compile(\n",
        "    loss= tf.keras.losses.mae,\n",
        "    optimizer= tf.keras.optimizers.SGD(),\n",
        "    metrics=[\"mae\"]\n",
        ")\n",
        "model.fit(tf.expand_dims(X, axis=-1), y, epochs=5, verbose=0)\n",
        "model.summary()"
      ],
      "metadata": {
        "id": "AbA8YKnmW2cH",
        "colab": {
          "base_uri": "https://localhost:8080/"
        },
        "outputId": "74c36a7c-c24c-45fc-e0f7-06e0bc817613"
      },
      "execution_count": 26,
      "outputs": [
        {
          "output_type": "stream",
          "name": "stdout",
          "text": [
            "Model: \"sequential_6\"\n",
            "_________________________________________________________________\n",
            " Layer (type)                Output Shape              Param #   \n",
            "=================================================================\n",
            " dense_7 (Dense)             (None, 1)                 2         \n",
            "                                                                 \n",
            "=================================================================\n",
            "Total params: 2\n",
            "Trainable params: 2\n",
            "Non-trainable params: 0\n",
            "_________________________________________________________________\n"
          ]
        }
      ]
    },
    {
      "cell_type": "code",
      "source": [
        "# not amazing prediction at all... we expected 27 =/\n",
        "shitty_pred = model.predict([17.0])\n",
        "shitty_pred"
      ],
      "metadata": {
        "colab": {
          "base_uri": "https://localhost:8080/"
        },
        "id": "Hj6RcI2oZFTc",
        "outputId": "dc28bfd9-05a0-4694-9d95-81080dd69d2b"
      },
      "execution_count": 28,
      "outputs": [
        {
          "output_type": "stream",
          "name": "stdout",
          "text": [
            "1/1 [==============================] - 0s 67ms/step\n"
          ]
        },
        {
          "output_type": "execute_result",
          "data": {
            "text/plain": [
              "array([[-6.376074]], dtype=float32)"
            ]
          },
          "metadata": {},
          "execution_count": 28
        }
      ]
    },
    {
      "cell_type": "markdown",
      "source": [
        "### Making the model less shitty"
      ],
      "metadata": {
        "id": "8NAHkLpqHyiM"
      }
    },
    {
      "cell_type": "code",
      "source": [
        "better_model = tf.keras.Sequential([\n",
        "    tf.keras.layers.Dense(100, activation=None),\n",
        "    tf.keras.layers.Dense(1)\n",
        "])\n",
        "better_model.compile(\n",
        "    loss= tf.keras.losses.mae,\n",
        "    optimizer= tf.keras.optimizers.SGD(lr=0.01),\n",
        "    metrics=[\"mae\"]\n",
        ")\n",
        "better_model.fit(tf.expand_dims(X, axis=-1), y, epochs=20, verbose=0)\n",
        "better_model.summary()"
      ],
      "metadata": {
        "colab": {
          "base_uri": "https://localhost:8080/"
        },
        "id": "wZfDzmyIeUYS",
        "outputId": "cd0cae29-9e4a-47a7-febc-decbcf534d45"
      },
      "execution_count": 31,
      "outputs": [
        {
          "output_type": "stream",
          "name": "stderr",
          "text": [
            "WARNING:absl:`lr` is deprecated, please use `learning_rate` instead, or use the legacy optimizer, e.g.,tf.keras.optimizers.legacy.SGD.\n"
          ]
        },
        {
          "output_type": "stream",
          "name": "stdout",
          "text": [
            "Model: \"sequential_8\"\n",
            "_________________________________________________________________\n",
            " Layer (type)                Output Shape              Param #   \n",
            "=================================================================\n",
            " dense_10 (Dense)            (None, 100)               200       \n",
            "                                                                 \n",
            " dense_11 (Dense)            (None, 1)                 101       \n",
            "                                                                 \n",
            "=================================================================\n",
            "Total params: 301\n",
            "Trainable params: 301\n",
            "Non-trainable params: 0\n",
            "_________________________________________________________________\n"
          ]
        }
      ]
    },
    {
      "cell_type": "code",
      "source": [
        "# Some improvement there ;)\n",
        "better_pred = better_model.predict([17.0])\n",
        "better_pred"
      ],
      "metadata": {
        "colab": {
          "base_uri": "https://localhost:8080/"
        },
        "id": "GmyA1y-FfOS6",
        "outputId": "c56dce78-ab26-4f06-ffc8-d586fd8643a9"
      },
      "execution_count": 33,
      "outputs": [
        {
          "output_type": "stream",
          "name": "stdout",
          "text": [
            "1/1 [==============================] - 0s 74ms/step\n"
          ]
        },
        {
          "output_type": "execute_result",
          "data": {
            "text/plain": [
              "array([[29.819908]], dtype=float32)"
            ]
          },
          "metadata": {},
          "execution_count": 33
        }
      ]
    },
    {
      "cell_type": "markdown",
      "source": [
        "## Trying a new model with some random data"
      ],
      "metadata": {
        "id": "VcXDXcX0dyqM"
      }
    },
    {
      "cell_type": "markdown",
      "source": [
        "### Creating some random data"
      ],
      "metadata": {
        "id": "7zocxrSNeIpW"
      }
    },
    {
      "cell_type": "code",
      "source": [
        "X1 = tf.range(-100, 100,4)\n",
        "y1 = X1 + 10"
      ],
      "metadata": {
        "id": "beFBf__9IE6q"
      },
      "execution_count": 35,
      "outputs": []
    },
    {
      "cell_type": "markdown",
      "source": [
        "### ![data-visualisation.png](data:image/png;base64,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) Visualising the Data "
      ],
      "metadata": {
        "id": "MzAF11rjeRaq"
      }
    },
    {
      "cell_type": "code",
      "source": [
        "plt.scatter(X1, y1)"
      ],
      "metadata": {
        "colab": {
          "base_uri": "https://localhost:8080/",
          "height": 282
        },
        "id": "AscGISD0KKTf",
        "outputId": "9b8f6336-354a-4a44-9428-c686667e2cb7"
      },
      "execution_count": 36,
      "outputs": [
        {
          "output_type": "execute_result",
          "data": {
            "text/plain": [
              "<matplotlib.collections.PathCollection at 0x7f5d40bf8520>"
            ]
          },
          "metadata": {},
          "execution_count": 36
        },
        {
          "output_type": "display_data",
          "data": {
            "text/plain": [
              "<Figure size 432x288 with 1 Axes>"
            ],
            "image/png": "[encoded data removed]"
          },
          "metadata": {
            "needs_background": "light"
          }
        }
      ]
    },
    {
      "cell_type": "markdown",
      "source": [
        "### Splitting the data => train / test set"
      ],
      "metadata": {
        "id": "IlfJivxzeZBK"
      }
    },
    {
      "cell_type": "code",
      "source": [
        "len(X1)"
      ],
      "metadata": {
        "id": "c1YdbAB_KTgz",
        "colab": {
          "base_uri": "https://localhost:8080/"
        },
        "outputId": "a7770f90-f951-4247-a2ed-572648aa0937"
      },
      "execution_count": 38,
      "outputs": [
        {
          "output_type": "execute_result",
          "data": {
            "text/plain": [
              "50"
            ]
          },
          "metadata": {},
          "execution_count": 38
        }
      ]
    },
    {
      "cell_type": "code",
      "source": [
        "X_train = X1[:40]\n",
        "X_test = X1[40:]\n",
        "\n",
        "y_train = y1[:40]\n",
        "y_test = y1[40:]"
      ],
      "metadata": {
        "id": "OC68uQHvw4NY"
      },
      "execution_count": 40,
      "outputs": []
    },
    {
      "cell_type": "markdown",
      "source": [
        "### ![data-visualisation.png](data:image/png;base64,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) Visualising the Data "
      ],
      "metadata": {
        "id": "bBl6T4ZuelBL"
      }
    },
    {
      "cell_type": "code",
      "source": [
        "plt.scatter(X_train, y_train)"
      ],
      "metadata": {
        "colab": {
          "base_uri": "https://localhost:8080/",
          "height": 282
        },
        "id": "Vyn-miKlxytX",
        "outputId": "78c236b7-958a-4f97-ccbf-0b7a0403eb96"
      },
      "execution_count": 41,
      "outputs": [
        {
          "output_type": "execute_result",
          "data": {
            "text/plain": [
              "<matplotlib.collections.PathCollection at 0x7f5d40c13ac0>"
            ]
          },
          "metadata": {},
          "execution_count": 41
        },
        {
          "output_type": "display_data",
          "data": {
            "text/plain": [
              "<Figure size 432x288 with 1 Axes>"
            ],
            "image/png": "[encoded data removed]"
          },
          "metadata": {
            "needs_background": "light"
          }
        }
      ]
    },
    {
      "cell_type": "code",
      "source": [
        "plt.scatter(X_test, y_test)"
      ],
      "metadata": {
        "colab": {
          "base_uri": "https://localhost:8080/",
          "height": 282
        },
        "id": "AeUkh5phx6mM",
        "outputId": "3b9bb1d6-bd87-486d-ea8d-0843871f0d42"
      },
      "execution_count": 42,
      "outputs": [
        {
          "output_type": "execute_result",
          "data": {
            "text/plain": [
              "<matplotlib.collections.PathCollection at 0x7f5d40b87b50>"
            ]
          },
          "metadata": {},
          "execution_count": 42
        },
        {
          "output_type": "display_data",
          "data": {
            "text/plain": [
              "<Figure size 432x288 with 1 Axes>"
            ],
            "image/png": "[encoded data removed]"
          },
          "metadata": {
            "needs_background": "light"
          }
        }
      ]
    },
    {
      "cell_type": "code",
      "source": [
        "plt.figure(figsize=(10,7))\n",
        "plt.scatter(X_train, y_train, c='r', label='Training Data')\n",
        "plt.scatter(X_test, y_test, c='g', label='Test Data')\n",
        "plt.legend()"
      ],
      "metadata": {
        "colab": {
          "base_uri": "https://localhost:8080/",
          "height": 445
        },
        "id": "YdHPaAh6yBen",
        "outputId": "2d402afc-3a6c-4ded-de27-292ee1a33d86"
      },
      "execution_count": 43,
      "outputs": [
        {
          "output_type": "execute_result",
          "data": {
            "text/plain": [
              "<matplotlib.legend.Legend at 0x7f5d40aeaca0>"
            ]
          },
          "metadata": {},
          "execution_count": 43
        },
        {
          "output_type": "display_data",
          "data": {
            "text/plain": [
              "<Figure size 720x504 with 1 Axes>"
            ],
            "image/png": "[encoded data removed]"
          },
          "metadata": {
            "needs_background": "light"
          }
        }
      ]
    },
    {
      "cell_type": "markdown",
      "source": [
        "### Creating the Model"
      ],
      "metadata": {
        "id": "MO438LBCetWz"
      }
    },
    {
      "cell_type": "code",
      "source": [
        "# Set random seed\n",
        "tf.random.set_seed(42)\n",
        "\n",
        "# Create a model (same as above)\n",
        "model = tf.keras.Sequential([\n",
        "  tf.keras.layers.Dense(10, input_shape=[1], name=\"input-layer\"), # define the input_shape to our model\n",
        "  tf.keras.layers.Dense(1, name=\"output-layer\") # define the input_shape to our model\n",
        "], name=\"first-model\")\n",
        "\n",
        "# Compile model (same as above)\n",
        "model.compile(loss=tf.keras.losses.mae,\n",
        "              optimizer=tf.keras.optimizers.SGD(lr=0.01),\n",
        "              metrics=[\"mae\"])\n",
        "\n",
        "model.fit(tf.expand_dims(X_train, axis=-1), y_train, epochs=100, verbose=0)\n",
        "\n",
        "model.summary()"
      ],
      "metadata": {
        "id": "7rjIWzVdys2L",
        "colab": {
          "base_uri": "https://localhost:8080/"
        },
        "outputId": "354dd0b6-a4b2-4df1-af92-7c3d720c2e47"
      },
      "execution_count": 47,
      "outputs": [
        {
          "output_type": "stream",
          "name": "stderr",
          "text": [
            "WARNING:absl:`lr` is deprecated, please use `learning_rate` instead, or use the legacy optimizer, e.g.,tf.keras.optimizers.legacy.SGD.\n"
          ]
        },
        {
          "output_type": "stream",
          "name": "stdout",
          "text": [
            "Model: \"first-model\"\n",
            "_________________________________________________________________\n",
            " Layer (type)                Output Shape              Param #   \n",
            "=================================================================\n",
            " input-layer (Dense)         (None, 10)                20        \n",
            "                                                                 \n",
            " output-layer (Dense)        (None, 1)                 11        \n",
            "                                                                 \n",
            "=================================================================\n",
            "Total params: 31\n",
            "Trainable params: 31\n",
            "Non-trainable params: 0\n",
            "_________________________________________________________________\n"
          ]
        }
      ]
    },
    {
      "cell_type": "markdown",
      "source": [
        "### ![data-visualisation.png](data:image/png;base64,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) Visualising the model"
      ],
      "metadata": {
        "id": "CRTSOEcmfIS9"
      }
    },
    {
      "cell_type": "code",
      "source": [
        "plot_model(model=model, show_shapes=True)"
      ],
      "metadata": {
        "colab": {
          "base_uri": "https://localhost:8080/",
          "height": 312
        },
        "id": "TE80yMkp3yqk",
        "outputId": "ddbaae58-6b6a-4348-bd2a-d2865ca77bb2"
      },
      "execution_count": 48,
      "outputs": [
        {
          "output_type": "execute_result",
          "data": {
            "image/png": "[encoded data removed]",
            "text/plain": [
              "<IPython.core.display.Image object>"
            ]
          },
          "metadata": {},
          "execution_count": 48
        }
      ]
    },
    {
      "cell_type": "markdown",
      "source": [
        "### Making predictions"
      ],
      "metadata": {
        "id": "Y5GyfJwFfXKH"
      }
    },
    {
      "cell_type": "code",
      "source": [
        "y_pred = model.predict(X_test)\n",
        "y_pred\n"
      ],
      "metadata": {
        "id": "aJ18__wP4CTi",
        "colab": {
          "base_uri": "https://localhost:8080/"
        },
        "outputId": "05d70c00-7f05-4c96-8d6a-8a0363c426d6"
      },
      "execution_count": 49,
      "outputs": [
        {
          "output_type": "stream",
          "name": "stderr",
          "text": [
            "WARNING:tensorflow:6 out of the last 8 calls to <function Model.make_predict_function.<locals>.predict_function at 0x7f5d408e83a0> triggered tf.function retracing. Tracing is expensive and the excessive number of tracings could be due to (1) creating @tf.function repeatedly in a loop, (2) passing tensors with different shapes, (3) passing Python objects instead of tensors. For (1), please define your @tf.function outside of the loop. For (2), @tf.function has reduce_retracing=True option that can avoid unnecessary retracing. For (3), please refer to https://www.tensorflow.org/guide/function#controlling_retracing and https://www.tensorflow.org/api_docs/python/tf/function for  more details.\n"
          ]
        },
        {
          "output_type": "stream",
          "name": "stdout",
          "text": [
            "1/1 [==============================] - 0s 65ms/step\n"
          ]
        },
        {
          "output_type": "execute_result",
          "data": {
            "text/plain": [
              "array([[ 76.460365],\n",
              "       [ 81.441154],\n",
              "       [ 86.42192 ],\n",
              "       [ 91.40269 ],\n",
              "       [ 96.383484],\n",
              "       [101.36426 ],\n",
              "       [106.34504 ],\n",
              "       [111.32582 ],\n",
              "       [116.30661 ],\n",
              "       [121.28738 ]], dtype=float32)"
            ]
          },
          "metadata": {},
          "execution_count": 49
        }
      ]
    },
    {
      "cell_type": "markdown",
      "source": [
        "### ![data-visualisation.png](data:image/png;base64,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) Visualising the Predictions"
      ],
      "metadata": {
        "id": "TiIiFHv8fda_"
      }
    },
    {
      "cell_type": "code",
      "source": [
        "def plot_predictions(train_data=X_train,\n",
        "                     train_labels=y_train,\n",
        "                     test_data=X_test,\n",
        "                     test_labels=y_test,\n",
        "                     predictions=y_pred):\n",
        "    plt.figure(figsize=(10,7))\n",
        "    plt.scatter(train_data, train_labels, c='b', label='Training Data')\n",
        "    plt.scatter(test_data, test_labels, c='g', label='Testing Data')\n",
        "    plt.scatter(test_data, predictions, c='r', label='Predictions')\n",
        "    plt.legend()"
      ],
      "metadata": {
        "id": "Oiz6q_wjJDWV"
      },
      "execution_count": 50,
      "outputs": []
    },
    {
      "cell_type": "code",
      "source": [
        "plot_predictions()"
      ],
      "metadata": {
        "colab": {
          "base_uri": "https://localhost:8080/",
          "height": 428
        },
        "id": "zMV3sH3-KZt4",
        "outputId": "34c53bfc-0bf2-4013-c92e-ebf88456a773"
      },
      "execution_count": 51,
      "outputs": [
        {
          "output_type": "display_data",
          "data": {
            "text/plain": [
              "<Figure size 720x504 with 1 Axes>"
            ],
            "image/png": "[encoded data removed]"
          },
          "metadata": {
            "needs_background": "light"
          }
        }
      ]
    },
    {
      "cell_type": "markdown",
      "source": [
        "### Evaluating the Models 📐"
      ],
      "metadata": {
        "id": "pwr4WSa8fvsm"
      }
    },
    {
      "cell_type": "code",
      "source": [
        "model.evaluate(X_test, y_test)"
      ],
      "metadata": {
        "id": "ID8-ZnAGKfeP",
        "colab": {
          "base_uri": "https://localhost:8080/"
        },
        "outputId": "a2206180-1819-4fdf-a67f-eab7ff767ebc"
      },
      "execution_count": 52,
      "outputs": [
        {
          "output_type": "stream",
          "name": "stdout",
          "text": [
            "1/1 [==============================] - 0s 171ms/step - loss: 10.8739 - mae: 10.8739\n"
          ]
        },
        {
          "output_type": "execute_result",
          "data": {
            "text/plain": [
              "[10.873873710632324, 10.873873710632324]"
            ]
          },
          "metadata": {},
          "execution_count": 52
        }
      ]
    },
    {
      "cell_type": "code",
      "source": [
        "# mean absolute error\n",
        "mae = tf.metrics.mean_absolute_error(y_true=y_test, y_pred=tf.squeeze(y_pred) )\n",
        "mae"
      ],
      "metadata": {
        "colab": {
          "base_uri": "https://localhost:8080/"
        },
        "id": "T6p1wGJ7chL2",
        "outputId": "1479de26-572c-42f2-b907-54a3474cbc89"
      },
      "execution_count": 53,
      "outputs": [
        {
          "output_type": "execute_result",
          "data": {
            "text/plain": [
              "<tf.Tensor: shape=(), dtype=float32, numpy=10.873872>"
            ]
          },
          "metadata": {},
          "execution_count": 53
        }
      ]
    },
    {
      "cell_type": "code",
      "source": [
        "# mean squared error\n",
        "mse = tf.metrics.mean_squared_error(y_true=y_test, y_pred=tf.squeeze(y_pred))\n",
        "mse"
      ],
      "metadata": {
        "colab": {
          "base_uri": "https://localhost:8080/"
        },
        "id": "kha6E8Zrdg-I",
        "outputId": "1b20bb2e-1f0d-4379-e666-680bc0105a7c"
      },
      "execution_count": 54,
      "outputs": [
        {
          "output_type": "execute_result",
          "data": {
            "text/plain": [
              "<tf.Tensor: shape=(), dtype=float32, numpy=126.17699>"
            ]
          },
          "metadata": {},
          "execution_count": 54
        }
      ]
    },
    {
      "cell_type": "code",
      "source": [
        "def get_metric(y_true=y_test, y_pred=y_pred, metric=\"mae\"):\n",
        "    if metric == \"mae\":\n",
        "        return tf.metrics.mean_absolute_error(y_true=y_test, y_pred=tf.squeeze(y_pred))\n",
        "    if metric == \"mse\":\n",
        "        return tf.metrics.mean_squared_error(y_true=y_test, y_pred=tf.squeeze(y_pred))\n",
        "    raise Exception(\"Invalid metric \", metric)"
      ],
      "metadata": {
        "id": "JsxiRVCbecl3"
      },
      "execution_count": 55,
      "outputs": []
    },
    {
      "cell_type": "code",
      "source": [
        "mae = get_metric()\n",
        "mse = get_metric(metric=\"mse\")"
      ],
      "metadata": {
        "id": "3BqD8wUKfm8F"
      },
      "execution_count": 56,
      "outputs": []
    },
    {
      "cell_type": "code",
      "source": [
        "mae"
      ],
      "metadata": {
        "colab": {
          "base_uri": "https://localhost:8080/"
        },
        "id": "ZWZSGBFlft9c",
        "outputId": "7d6ad1c9-7f92-4506-8e10-c537043091bb"
      },
      "execution_count": 57,
      "outputs": [
        {
          "output_type": "execute_result",
          "data": {
            "text/plain": [
              "<tf.Tensor: shape=(), dtype=float32, numpy=10.873872>"
            ]
          },
          "metadata": {},
          "execution_count": 57
        }
      ]
    },
    {
      "cell_type": "code",
      "source": [
        "mse"
      ],
      "metadata": {
        "id": "nceQztvmf0Qb",
        "outputId": "62ac6c10-8bd8-486f-8b30-029f58253b97",
        "colab": {
          "base_uri": "https://localhost:8080/"
        }
      },
      "execution_count": 58,
      "outputs": [
        {
          "output_type": "execute_result",
          "data": {
            "text/plain": [
              "<tf.Tensor: shape=(), dtype=float32, numpy=126.17699>"
            ]
          },
          "metadata": {},
          "execution_count": 58
        }
      ]
    }
  ]
}