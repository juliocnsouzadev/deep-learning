{
  "nbformat": 4,
  "nbformat_minor": 0,
  "metadata": {
    "colab": {
      "name": "artificial_neural_network.ipynb",
      "provenance": [],
      "collapsed_sections": []
    },
    "kernelspec": {
      "name": "python3",
      "display_name": "Python 3"
    }
  },
  "cells": [
    {
      "cell_type": "markdown",
      "metadata": {
        "id": "lP6JLo1tGNBg",
        "colab_type": "text"
      },
      "source": [
        "# Artificial Neural Network"
      ]
    },
    {
      "cell_type": "markdown",
      "metadata": {
        "id": "gWZyYmS_UE_L",
        "colab_type": "text"
      },
      "source": [
        "### Importing the libraries"
      ]
    },
    {
      "cell_type": "code",
      "metadata": {
        "id": "MxkJoQBkUIHC",
        "colab_type": "code",
        "colab": {}
      },
      "source": [
        "import numpy as np\n",
        "import pandas as pd\n",
        "import tensorflow as tf"
      ],
      "execution_count": 1,
      "outputs": []
    },
    {
      "cell_type": "code",
      "metadata": {
        "id": "ZaTwK7ojXr2F",
        "colab_type": "code",
        "colab": {
          "base_uri": "https://localhost:8080/",
          "height": 35
        },
        "outputId": "9303ed67-f8ba-49ff-cfd2-c5cc06ee5a76"
      },
      "source": [
        "tf.__version__"
      ],
      "execution_count": 2,
      "outputs": [
        {
          "output_type": "execute_result",
          "data": {
            "application/vnd.google.colaboratory.intrinsic+json": {
              "type": "string"
            },
            "text/plain": [
              "'2.3.0'"
            ]
          },
          "metadata": {
            "tags": []
          },
          "execution_count": 2
        }
      ]
    },
    {
      "cell_type": "code",
      "metadata": {
        "id": "ciFvZH1aI_Vz",
        "colab_type": "code",
        "colab": {
          "base_uri": "https://localhost:8080/",
          "height": 122
        },
        "outputId": "b454a164-05f3-4bce-ff4b-2949bfc36aca"
      },
      "source": [
        "from google.colab import drive\n",
        "drive.mount('/content/drive')"
      ],
      "execution_count": 3,
      "outputs": [
        {
          "output_type": "stream",
          "text": [
            "Go to this URL in a browser: https://accounts.google.com/o/oauth2/auth?client_id=947318989803-6bn6qk8qdgf4n4g3pfee6491hc0brc4i.apps.googleusercontent.com&redirect_uri=urn%3aietf%3awg%3aoauth%3a2.0%3aoob&scope=email%20https%3a%2f%2fwww.googleapis.com%2fauth%2fdocs.test%20https%3a%2f%2fwww.googleapis.com%2fauth%2fdrive%20https%3a%2f%2fwww.googleapis.com%2fauth%2fdrive.photos.readonly%20https%3a%2f%2fwww.googleapis.com%2fauth%2fpeopleapi.readonly&response_type=code\n",
            "\n",
            "Enter your authorization code:\n",
            "··········\n",
            "Mounted at /content/drive\n"
          ],
          "name": "stdout"
        }
      ]
    },
    {
      "cell_type": "markdown",
      "metadata": {
        "id": "1E0Q3aoKUCRX",
        "colab_type": "text"
      },
      "source": [
        "## Part 1 - Data Preprocessing"
      ]
    },
    {
      "cell_type": "markdown",
      "metadata": {
        "id": "cKWAkFVGUU0Z",
        "colab_type": "text"
      },
      "source": [
        "### Importing the dataset"
      ]
    },
    {
      "cell_type": "code",
      "metadata": {
        "id": "MXUkhkMfU4wq",
        "colab_type": "code",
        "colab": {}
      },
      "source": [
        "dataset = pd.read_csv('/content/drive/My Drive/Colab Notebooks/Churn_Modelling.csv')\n",
        "X = dataset.iloc[:, 3:-1].values\n",
        "y = dataset.iloc[:, -1].values"
      ],
      "execution_count": 4,
      "outputs": []
    },
    {
      "cell_type": "code",
      "metadata": {
        "id": "VYP9cQTWbzuI",
        "colab_type": "code",
        "colab": {
          "base_uri": "https://localhost:8080/",
          "height": 136
        },
        "outputId": "066893a3-22b5-4898-8741-647b350e7e65"
      },
      "source": [
        "print(X)"
      ],
      "execution_count": 5,
      "outputs": [
        {
          "output_type": "stream",
          "text": [
            "[[619 'France' 'Female' ... 1 1 101348.88]\n",
            " [608 'Spain' 'Female' ... 0 1 112542.58]\n",
            " [502 'France' 'Female' ... 1 0 113931.57]\n",
            " ...\n",
            " [709 'France' 'Female' ... 0 1 42085.58]\n",
            " [772 'Germany' 'Male' ... 1 0 92888.52]\n",
            " [792 'France' 'Female' ... 1 0 38190.78]]\n"
          ],
          "name": "stdout"
        }
      ]
    },
    {
      "cell_type": "code",
      "metadata": {
        "id": "38vKGE6Nb2RR",
        "colab_type": "code",
        "colab": {
          "base_uri": "https://localhost:8080/",
          "height": 34
        },
        "outputId": "1ba0a112-7e67-4576-f7e0-49fabafa400f"
      },
      "source": [
        "print(y)"
      ],
      "execution_count": 6,
      "outputs": [
        {
          "output_type": "stream",
          "text": [
            "[1 0 1 ... 1 1 0]\n"
          ],
          "name": "stdout"
        }
      ]
    },
    {
      "cell_type": "markdown",
      "metadata": {
        "id": "N6bQ0UgSU-NJ",
        "colab_type": "text"
      },
      "source": [
        "### Encoding categorical data"
      ]
    },
    {
      "cell_type": "markdown",
      "metadata": {
        "id": "le5MJreAbW52",
        "colab_type": "text"
      },
      "source": [
        "Label Encoding the \"Gender\" column"
      ]
    },
    {
      "cell_type": "code",
      "metadata": {
        "id": "PxVKWXxLbczC",
        "colab_type": "code",
        "colab": {}
      },
      "source": [
        "from sklearn.preprocessing import LabelEncoder\n",
        "le = LabelEncoder()\n",
        "X[:, 2] = le.fit_transform(X[:, 2])"
      ],
      "execution_count": 7,
      "outputs": []
    },
    {
      "cell_type": "code",
      "metadata": {
        "id": "-M1KboxFb6OO",
        "colab_type": "code",
        "colab": {
          "base_uri": "https://localhost:8080/",
          "height": 136
        },
        "outputId": "1a498671-d678-4f82-c38a-eafbc13dcc6e"
      },
      "source": [
        "print(X)"
      ],
      "execution_count": 8,
      "outputs": [
        {
          "output_type": "stream",
          "text": [
            "[[619 'France' 0 ... 1 1 101348.88]\n",
            " [608 'Spain' 0 ... 0 1 112542.58]\n",
            " [502 'France' 0 ... 1 0 113931.57]\n",
            " ...\n",
            " [709 'France' 0 ... 0 1 42085.58]\n",
            " [772 'Germany' 1 ... 1 0 92888.52]\n",
            " [792 'France' 0 ... 1 0 38190.78]]\n"
          ],
          "name": "stdout"
        }
      ]
    },
    {
      "cell_type": "markdown",
      "metadata": {
        "id": "CUxGZezpbMcb",
        "colab_type": "text"
      },
      "source": [
        "One Hot Encoding the \"Geography\" column"
      ]
    },
    {
      "cell_type": "code",
      "metadata": {
        "id": "AMXC8-KMVirw",
        "colab_type": "code",
        "colab": {}
      },
      "source": [
        "from sklearn.compose import ColumnTransformer\n",
        "from sklearn.preprocessing import OneHotEncoder\n",
        "ct = ColumnTransformer(transformers=[('encoder', OneHotEncoder(), [1])], remainder='passthrough')\n",
        "X = np.array(ct.fit_transform(X))"
      ],
      "execution_count": 9,
      "outputs": []
    },
    {
      "cell_type": "code",
      "metadata": {
        "id": "ZcxwEon-b8nV",
        "colab_type": "code",
        "colab": {
          "base_uri": "https://localhost:8080/",
          "height": 136
        },
        "outputId": "70901318-ab30-4ad9-a92a-b3560fe2be5b"
      },
      "source": [
        "print(X)"
      ],
      "execution_count": 10,
      "outputs": [
        {
          "output_type": "stream",
          "text": [
            "[[1.0 0.0 0.0 ... 1 1 101348.88]\n",
            " [0.0 0.0 1.0 ... 0 1 112542.58]\n",
            " [1.0 0.0 0.0 ... 1 0 113931.57]\n",
            " ...\n",
            " [1.0 0.0 0.0 ... 0 1 42085.58]\n",
            " [0.0 1.0 0.0 ... 1 0 92888.52]\n",
            " [1.0 0.0 0.0 ... 1 0 38190.78]]\n"
          ],
          "name": "stdout"
        }
      ]
    },
    {
      "cell_type": "markdown",
      "metadata": {
        "id": "vHol938cW8zd",
        "colab_type": "text"
      },
      "source": [
        "### Splitting the dataset into the Training set and Test set"
      ]
    },
    {
      "cell_type": "code",
      "metadata": {
        "id": "Z-TDt0Y_XEfc",
        "colab_type": "code",
        "colab": {}
      },
      "source": [
        "from sklearn.model_selection import train_test_split\n",
        "X_train, X_test, y_train, y_test = train_test_split(X, y, test_size = 0.2, random_state = 0)"
      ],
      "execution_count": 11,
      "outputs": []
    },
    {
      "cell_type": "markdown",
      "metadata": {
        "id": "RE_FcHyfV3TQ",
        "colab_type": "text"
      },
      "source": [
        "### Feature Scaling"
      ]
    },
    {
      "cell_type": "code",
      "metadata": {
        "id": "ViCrE00rV8Sk",
        "colab_type": "code",
        "colab": {}
      },
      "source": [
        "from sklearn.preprocessing import StandardScaler\n",
        "sc = StandardScaler()\n",
        "X_train = sc.fit_transform(X_train)\n",
        "X_test = sc.transform(X_test)"
      ],
      "execution_count": 12,
      "outputs": []
    },
    {
      "cell_type": "markdown",
      "metadata": {
        "id": "-zfEzkRVXIwF",
        "colab_type": "text"
      },
      "source": [
        "## Part 2 - Building the ANN"
      ]
    },
    {
      "cell_type": "markdown",
      "metadata": {
        "id": "KvdeScabXtlB",
        "colab_type": "text"
      },
      "source": [
        "### Initializing the ANN"
      ]
    },
    {
      "cell_type": "code",
      "metadata": {
        "id": "3dtrScHxXQox",
        "colab_type": "code",
        "colab": {}
      },
      "source": [
        "ann = tf.keras.models.Sequential()"
      ],
      "execution_count": 13,
      "outputs": []
    },
    {
      "cell_type": "markdown",
      "metadata": {
        "id": "rP6urV6SX7kS",
        "colab_type": "text"
      },
      "source": [
        "### Adding the input layer and the first hidden layer"
      ]
    },
    {
      "cell_type": "code",
      "metadata": {
        "id": "bppGycBXYCQr",
        "colab_type": "code",
        "colab": {}
      },
      "source": [
        "ann.add(tf.keras.layers.Dense(units=6, activation='relu'))"
      ],
      "execution_count": 14,
      "outputs": []
    },
    {
      "cell_type": "markdown",
      "metadata": {
        "id": "BELWAc_8YJze",
        "colab_type": "text"
      },
      "source": [
        "### Adding the second hidden layer"
      ]
    },
    {
      "cell_type": "code",
      "metadata": {
        "id": "JneR0u0sYRTd",
        "colab_type": "code",
        "colab": {}
      },
      "source": [
        "ann.add(tf.keras.layers.Dense(units=6, activation='relu'))"
      ],
      "execution_count": 15,
      "outputs": []
    },
    {
      "cell_type": "markdown",
      "metadata": {
        "id": "OyNEe6RXYcU4",
        "colab_type": "text"
      },
      "source": [
        "### Adding the output layer"
      ]
    },
    {
      "cell_type": "code",
      "metadata": {
        "id": "Cn3x41RBYfvY",
        "colab_type": "code",
        "colab": {}
      },
      "source": [
        "ann.add(tf.keras.layers.Dense(units=1, activation='sigmoid'))"
      ],
      "execution_count": 16,
      "outputs": []
    },
    {
      "cell_type": "markdown",
      "metadata": {
        "id": "JT4u2S1_Y4WG",
        "colab_type": "text"
      },
      "source": [
        "## Part 3 - Training the ANN"
      ]
    },
    {
      "cell_type": "markdown",
      "metadata": {
        "id": "8GWlJChhY_ZI",
        "colab_type": "text"
      },
      "source": [
        "### Compiling the ANN"
      ]
    },
    {
      "cell_type": "code",
      "metadata": {
        "id": "fG3RrwDXZEaS",
        "colab_type": "code",
        "colab": {}
      },
      "source": [
        "ann.compile(optimizer = 'adam', loss = 'binary_crossentropy', metrics = ['accuracy'])"
      ],
      "execution_count": 18,
      "outputs": []
    },
    {
      "cell_type": "markdown",
      "metadata": {
        "id": "0QR_G5u7ZLSM",
        "colab_type": "text"
      },
      "source": [
        "### Training the ANN on the Training set"
      ]
    },
    {
      "cell_type": "code",
      "metadata": {
        "id": "nHZ-LKv_ZRb3",
        "colab_type": "code",
        "colab": {
          "base_uri": "https://localhost:8080/",
          "height": 1000
        },
        "outputId": "2e8c94c6-0d19-43c6-9725-8a8125c463be"
      },
      "source": [
        "ann.fit(X_train, y_train, batch_size = 32, epochs = 100)"
      ],
      "execution_count": 19,
      "outputs": [
        {
          "output_type": "stream",
          "text": [
            "Epoch 1/100\n",
            "250/250 [==============================] - 0s 870us/step - loss: 0.5628 - accuracy: 0.7490\n",
            "Epoch 2/100\n",
            "250/250 [==============================] - 0s 901us/step - loss: 0.4673 - accuracy: 0.7979\n",
            "Epoch 3/100\n",
            "250/250 [==============================] - 0s 914us/step - loss: 0.4457 - accuracy: 0.8036\n",
            "Epoch 4/100\n",
            "250/250 [==============================] - 0s 946us/step - loss: 0.4343 - accuracy: 0.8106\n",
            "Epoch 5/100\n",
            "250/250 [==============================] - 0s 877us/step - loss: 0.4269 - accuracy: 0.8119\n",
            "Epoch 6/100\n",
            "250/250 [==============================] - 0s 875us/step - loss: 0.4216 - accuracy: 0.8139\n",
            "Epoch 7/100\n",
            "250/250 [==============================] - 0s 941us/step - loss: 0.4164 - accuracy: 0.8181\n",
            "Epoch 8/100\n",
            "250/250 [==============================] - 0s 870us/step - loss: 0.4114 - accuracy: 0.8213\n",
            "Epoch 9/100\n",
            "250/250 [==============================] - 0s 864us/step - loss: 0.4077 - accuracy: 0.8253\n",
            "Epoch 10/100\n",
            "250/250 [==============================] - 0s 850us/step - loss: 0.4041 - accuracy: 0.8256\n",
            "Epoch 11/100\n",
            "250/250 [==============================] - 0s 984us/step - loss: 0.4010 - accuracy: 0.8266\n",
            "Epoch 12/100\n",
            "250/250 [==============================] - 0s 917us/step - loss: 0.3976 - accuracy: 0.8278\n",
            "Epoch 13/100\n",
            "250/250 [==============================] - 0s 858us/step - loss: 0.3946 - accuracy: 0.8269\n",
            "Epoch 14/100\n",
            "250/250 [==============================] - 0s 882us/step - loss: 0.3915 - accuracy: 0.8261\n",
            "Epoch 15/100\n",
            "250/250 [==============================] - 0s 860us/step - loss: 0.3877 - accuracy: 0.8320\n",
            "Epoch 16/100\n",
            "250/250 [==============================] - 0s 1ms/step - loss: 0.3841 - accuracy: 0.8390\n",
            "Epoch 17/100\n",
            "250/250 [==============================] - 0s 955us/step - loss: 0.3809 - accuracy: 0.8405\n",
            "Epoch 18/100\n",
            "250/250 [==============================] - 0s 883us/step - loss: 0.3767 - accuracy: 0.8441\n",
            "Epoch 19/100\n",
            "250/250 [==============================] - 0s 901us/step - loss: 0.3728 - accuracy: 0.8461\n",
            "Epoch 20/100\n",
            "250/250 [==============================] - 0s 891us/step - loss: 0.3694 - accuracy: 0.8470\n",
            "Epoch 21/100\n",
            "250/250 [==============================] - 0s 874us/step - loss: 0.3662 - accuracy: 0.8476\n",
            "Epoch 22/100\n",
            "250/250 [==============================] - 0s 893us/step - loss: 0.3640 - accuracy: 0.8500\n",
            "Epoch 23/100\n",
            "250/250 [==============================] - 0s 887us/step - loss: 0.3614 - accuracy: 0.8510\n",
            "Epoch 24/100\n",
            "250/250 [==============================] - 0s 911us/step - loss: 0.3602 - accuracy: 0.8505\n",
            "Epoch 25/100\n",
            "250/250 [==============================] - 0s 906us/step - loss: 0.3590 - accuracy: 0.8537\n",
            "Epoch 26/100\n",
            "250/250 [==============================] - 0s 876us/step - loss: 0.3578 - accuracy: 0.8545\n",
            "Epoch 27/100\n",
            "250/250 [==============================] - 0s 891us/step - loss: 0.3567 - accuracy: 0.8546\n",
            "Epoch 28/100\n",
            "250/250 [==============================] - 0s 851us/step - loss: 0.3562 - accuracy: 0.8540\n",
            "Epoch 29/100\n",
            "250/250 [==============================] - 0s 893us/step - loss: 0.3558 - accuracy: 0.8545\n",
            "Epoch 30/100\n",
            "250/250 [==============================] - 0s 872us/step - loss: 0.3547 - accuracy: 0.8550\n",
            "Epoch 31/100\n",
            "250/250 [==============================] - 0s 901us/step - loss: 0.3542 - accuracy: 0.8543\n",
            "Epoch 32/100\n",
            "250/250 [==============================] - 0s 902us/step - loss: 0.3536 - accuracy: 0.8554\n",
            "Epoch 33/100\n",
            "250/250 [==============================] - 0s 851us/step - loss: 0.3530 - accuracy: 0.8543\n",
            "Epoch 34/100\n",
            "250/250 [==============================] - 0s 961us/step - loss: 0.3524 - accuracy: 0.8569\n",
            "Epoch 35/100\n",
            "250/250 [==============================] - 0s 884us/step - loss: 0.3518 - accuracy: 0.8562\n",
            "Epoch 36/100\n",
            "250/250 [==============================] - 0s 877us/step - loss: 0.3511 - accuracy: 0.8574\n",
            "Epoch 37/100\n",
            "250/250 [==============================] - 0s 920us/step - loss: 0.3508 - accuracy: 0.8590\n",
            "Epoch 38/100\n",
            "250/250 [==============================] - 0s 900us/step - loss: 0.3507 - accuracy: 0.8574\n",
            "Epoch 39/100\n",
            "250/250 [==============================] - 0s 896us/step - loss: 0.3501 - accuracy: 0.8579\n",
            "Epoch 40/100\n",
            "250/250 [==============================] - 0s 873us/step - loss: 0.3493 - accuracy: 0.8584\n",
            "Epoch 41/100\n",
            "250/250 [==============================] - 0s 895us/step - loss: 0.3499 - accuracy: 0.8594\n",
            "Epoch 42/100\n",
            "250/250 [==============================] - 0s 915us/step - loss: 0.3494 - accuracy: 0.8576\n",
            "Epoch 43/100\n",
            "250/250 [==============================] - 0s 863us/step - loss: 0.3488 - accuracy: 0.8579\n",
            "Epoch 44/100\n",
            "250/250 [==============================] - 0s 856us/step - loss: 0.3489 - accuracy: 0.8562\n",
            "Epoch 45/100\n",
            "250/250 [==============================] - 0s 906us/step - loss: 0.3489 - accuracy: 0.8550\n",
            "Epoch 46/100\n",
            "250/250 [==============================] - 0s 909us/step - loss: 0.3481 - accuracy: 0.8594\n",
            "Epoch 47/100\n",
            "250/250 [==============================] - 0s 918us/step - loss: 0.3478 - accuracy: 0.8583\n",
            "Epoch 48/100\n",
            "250/250 [==============================] - 0s 919us/step - loss: 0.3481 - accuracy: 0.8564\n",
            "Epoch 49/100\n",
            "250/250 [==============================] - 0s 910us/step - loss: 0.3478 - accuracy: 0.8576\n",
            "Epoch 50/100\n",
            "250/250 [==============================] - 0s 976us/step - loss: 0.3481 - accuracy: 0.8590\n",
            "Epoch 51/100\n",
            "250/250 [==============================] - 0s 907us/step - loss: 0.3476 - accuracy: 0.8569\n",
            "Epoch 52/100\n",
            "250/250 [==============================] - 0s 907us/step - loss: 0.3478 - accuracy: 0.8571\n",
            "Epoch 53/100\n",
            "250/250 [==============================] - 0s 887us/step - loss: 0.3479 - accuracy: 0.8558\n",
            "Epoch 54/100\n",
            "250/250 [==============================] - 0s 864us/step - loss: 0.3474 - accuracy: 0.8575\n",
            "Epoch 55/100\n",
            "250/250 [==============================] - 0s 882us/step - loss: 0.3473 - accuracy: 0.8568\n",
            "Epoch 56/100\n",
            "250/250 [==============================] - 0s 983us/step - loss: 0.3470 - accuracy: 0.8574\n",
            "Epoch 57/100\n",
            "250/250 [==============================] - 0s 903us/step - loss: 0.3469 - accuracy: 0.8568\n",
            "Epoch 58/100\n",
            "250/250 [==============================] - 0s 905us/step - loss: 0.3468 - accuracy: 0.8570\n",
            "Epoch 59/100\n",
            "250/250 [==============================] - 0s 876us/step - loss: 0.3470 - accuracy: 0.8580\n",
            "Epoch 60/100\n",
            "250/250 [==============================] - 0s 922us/step - loss: 0.3472 - accuracy: 0.8575\n",
            "Epoch 61/100\n",
            "250/250 [==============================] - 0s 926us/step - loss: 0.3465 - accuracy: 0.8572\n",
            "Epoch 62/100\n",
            "250/250 [==============================] - 0s 889us/step - loss: 0.3463 - accuracy: 0.8581\n",
            "Epoch 63/100\n",
            "250/250 [==============================] - 0s 895us/step - loss: 0.3468 - accuracy: 0.8560\n",
            "Epoch 64/100\n",
            "250/250 [==============================] - 0s 906us/step - loss: 0.3465 - accuracy: 0.8570\n",
            "Epoch 65/100\n",
            "250/250 [==============================] - 0s 870us/step - loss: 0.3459 - accuracy: 0.8570\n",
            "Epoch 66/100\n",
            "250/250 [==============================] - 0s 883us/step - loss: 0.3462 - accuracy: 0.8560\n",
            "Epoch 67/100\n",
            "250/250 [==============================] - 0s 879us/step - loss: 0.3459 - accuracy: 0.8577\n",
            "Epoch 68/100\n",
            "250/250 [==============================] - 0s 893us/step - loss: 0.3460 - accuracy: 0.8599\n",
            "Epoch 69/100\n",
            "250/250 [==============================] - 0s 895us/step - loss: 0.3455 - accuracy: 0.8576\n",
            "Epoch 70/100\n",
            "250/250 [==============================] - 0s 878us/step - loss: 0.3461 - accuracy: 0.8575\n",
            "Epoch 71/100\n",
            "250/250 [==============================] - 0s 915us/step - loss: 0.3457 - accuracy: 0.8569\n",
            "Epoch 72/100\n",
            "250/250 [==============================] - 0s 912us/step - loss: 0.3456 - accuracy: 0.8577\n",
            "Epoch 73/100\n",
            "250/250 [==============================] - 0s 895us/step - loss: 0.3448 - accuracy: 0.8574\n",
            "Epoch 74/100\n",
            "250/250 [==============================] - 0s 862us/step - loss: 0.3464 - accuracy: 0.8575\n",
            "Epoch 75/100\n",
            "250/250 [==============================] - 0s 953us/step - loss: 0.3453 - accuracy: 0.8585\n",
            "Epoch 76/100\n",
            "250/250 [==============================] - 0s 896us/step - loss: 0.3444 - accuracy: 0.8587\n",
            "Epoch 77/100\n",
            "250/250 [==============================] - 0s 871us/step - loss: 0.3454 - accuracy: 0.8568\n",
            "Epoch 78/100\n",
            "250/250 [==============================] - 0s 930us/step - loss: 0.3453 - accuracy: 0.8604\n",
            "Epoch 79/100\n",
            "250/250 [==============================] - 0s 887us/step - loss: 0.3450 - accuracy: 0.8586\n",
            "Epoch 80/100\n",
            "250/250 [==============================] - 0s 865us/step - loss: 0.3446 - accuracy: 0.8572\n",
            "Epoch 81/100\n",
            "250/250 [==============================] - 0s 863us/step - loss: 0.3441 - accuracy: 0.8585\n",
            "Epoch 82/100\n",
            "250/250 [==============================] - 0s 919us/step - loss: 0.3445 - accuracy: 0.8581\n",
            "Epoch 83/100\n",
            "250/250 [==============================] - 0s 872us/step - loss: 0.3445 - accuracy: 0.8590\n",
            "Epoch 84/100\n",
            "250/250 [==============================] - 0s 879us/step - loss: 0.3441 - accuracy: 0.8584\n",
            "Epoch 85/100\n",
            "250/250 [==============================] - 0s 875us/step - loss: 0.3442 - accuracy: 0.8576\n",
            "Epoch 86/100\n",
            "250/250 [==============================] - 0s 864us/step - loss: 0.3440 - accuracy: 0.8595\n",
            "Epoch 87/100\n",
            "250/250 [==============================] - 0s 903us/step - loss: 0.3443 - accuracy: 0.8579\n",
            "Epoch 88/100\n",
            "250/250 [==============================] - 0s 882us/step - loss: 0.3440 - accuracy: 0.8606\n",
            "Epoch 89/100\n",
            "250/250 [==============================] - 0s 882us/step - loss: 0.3435 - accuracy: 0.8608\n",
            "Epoch 90/100\n",
            "250/250 [==============================] - 0s 852us/step - loss: 0.3438 - accuracy: 0.8596\n",
            "Epoch 91/100\n",
            "250/250 [==============================] - 0s 895us/step - loss: 0.3438 - accuracy: 0.8593\n",
            "Epoch 92/100\n",
            "250/250 [==============================] - 0s 855us/step - loss: 0.3444 - accuracy: 0.8581\n",
            "Epoch 93/100\n",
            "250/250 [==============================] - 0s 881us/step - loss: 0.3430 - accuracy: 0.8595\n",
            "Epoch 94/100\n",
            "250/250 [==============================] - 0s 954us/step - loss: 0.3432 - accuracy: 0.8590\n",
            "Epoch 95/100\n",
            "250/250 [==============================] - 0s 1ms/step - loss: 0.3432 - accuracy: 0.8587\n",
            "Epoch 96/100\n",
            "250/250 [==============================] - 0s 991us/step - loss: 0.3432 - accuracy: 0.8590\n",
            "Epoch 97/100\n",
            "250/250 [==============================] - 0s 885us/step - loss: 0.3433 - accuracy: 0.8599\n",
            "Epoch 98/100\n",
            "250/250 [==============================] - 0s 892us/step - loss: 0.3426 - accuracy: 0.8609\n",
            "Epoch 99/100\n",
            "250/250 [==============================] - 0s 876us/step - loss: 0.3431 - accuracy: 0.8594\n",
            "Epoch 100/100\n",
            "250/250 [==============================] - 0s 924us/step - loss: 0.3428 - accuracy: 0.8584\n"
          ],
          "name": "stdout"
        },
        {
          "output_type": "execute_result",
          "data": {
            "text/plain": [
              "<tensorflow.python.keras.callbacks.History at 0x7f8081048fd0>"
            ]
          },
          "metadata": {
            "tags": []
          },
          "execution_count": 19
        }
      ]
    },
    {
      "cell_type": "markdown",
      "metadata": {
        "id": "tJj5k2MxZga3",
        "colab_type": "text"
      },
      "source": [
        "## Part 4 - Making the predictions and evaluating the model"
      ]
    },
    {
      "cell_type": "markdown",
      "metadata": {
        "id": "84QFoqGYeXHL",
        "colab_type": "text"
      },
      "source": [
        "### Predicting the result of a single observation"
      ]
    },
    {
      "cell_type": "markdown",
      "metadata": {
        "id": "CGRo3eacgDdC",
        "colab_type": "text"
      },
      "source": [
        "**Homework**\n",
        "\n",
        "Use our ANN model to predict if the customer with the following informations will leave the bank: \n",
        "\n",
        "Geography: France\n",
        "\n",
        "Credit Score: 600\n",
        "\n",
        "Gender: Male\n",
        "\n",
        "Age: 40 years old\n",
        "\n",
        "Tenure: 3 years\n",
        "\n",
        "Balance: \\$ 60000\n",
        "\n",
        "Number of Products: 2\n",
        "\n",
        "Does this customer have a credit card? Yes\n",
        "\n",
        "Is this customer an Active Member: Yes\n",
        "\n",
        "Estimated Salary: \\$ 50000\n",
        "\n",
        "So, should we say goodbye to that customer?"
      ]
    },
    {
      "cell_type": "markdown",
      "metadata": {
        "id": "ZhU1LTgPg-kH",
        "colab_type": "text"
      },
      "source": [
        "**Solution**"
      ]
    },
    {
      "cell_type": "code",
      "metadata": {
        "id": "2d8IoCCkeWGL",
        "colab_type": "code",
        "colab": {
          "base_uri": "https://localhost:8080/",
          "height": 34
        },
        "outputId": "8ed9ae80-a1e3-4e87-cbd9-d2576e805aa5"
      },
      "source": [
        "print(ann.predict(sc.transform([[1, 0, 0, 600, 1, 40, 3, 60000, 2, 1, 1, 50000]])) > 0.5)"
      ],
      "execution_count": 20,
      "outputs": [
        {
          "output_type": "stream",
          "text": [
            "[[False]]\n"
          ],
          "name": "stdout"
        }
      ]
    },
    {
      "cell_type": "markdown",
      "metadata": {
        "id": "wGjx94g2n7OV",
        "colab_type": "text"
      },
      "source": [
        "Therefore, our ANN model predicts that this customer stays in the bank!\n",
        "\n",
        "**Important note 1:** Notice that the values of the features were all input in a double pair of square brackets. That's because the \"predict\" method always expects a 2D array as the format of its inputs. And putting our values into a double pair of square brackets makes the input exactly a 2D array.\n",
        "\n",
        "**Important note 2:** Notice also that the \"France\" country was not input as a string in the last column but as \"1, 0, 0\" in the first three columns. That's because of course the predict method expects the one-hot-encoded values of the state, and as we see in the first row of the matrix of features X, \"France\" was encoded as \"1, 0, 0\". And be careful to include these values in the first three columns, because the dummy variables are always created in the first columns."
      ]
    },
    {
      "cell_type": "markdown",
      "metadata": {
        "id": "u7yx47jPZt11",
        "colab_type": "text"
      },
      "source": [
        "### Predicting the Test set results"
      ]
    },
    {
      "cell_type": "code",
      "metadata": {
        "id": "nIyEeQdRZwgs",
        "colab_type": "code",
        "colab": {
          "base_uri": "https://localhost:8080/",
          "height": 136
        },
        "outputId": "e7fe88c9-b4f5-41a4-8069-22fb23c19934"
      },
      "source": [
        "y_pred = ann.predict(X_test)\n",
        "y_pred = (y_pred > 0.5)\n",
        "print(np.concatenate((y_pred.reshape(len(y_pred),1), y_test.reshape(len(y_test),1)),1))"
      ],
      "execution_count": 21,
      "outputs": [
        {
          "output_type": "stream",
          "text": [
            "[[0 0]\n",
            " [0 1]\n",
            " [0 0]\n",
            " ...\n",
            " [0 0]\n",
            " [0 0]\n",
            " [0 0]]\n"
          ],
          "name": "stdout"
        }
      ]
    },
    {
      "cell_type": "markdown",
      "metadata": {
        "id": "o0oyfLWoaEGw",
        "colab_type": "text"
      },
      "source": [
        "### Making the Confusion Matrix"
      ]
    },
    {
      "cell_type": "code",
      "metadata": {
        "id": "ci6K_r6LaF6P",
        "colab_type": "code",
        "colab": {
          "base_uri": "https://localhost:8080/",
          "height": 68
        },
        "outputId": "9ed32b1a-20f8-41f7-9d03-aaa2dfb2f65f"
      },
      "source": [
        "from sklearn.metrics import confusion_matrix, accuracy_score\n",
        "cm = confusion_matrix(y_test, y_pred)\n",
        "print(cm)\n",
        "accuracy_score(y_test, y_pred)"
      ],
      "execution_count": 22,
      "outputs": [
        {
          "output_type": "stream",
          "text": [
            "[[1529   66]\n",
            " [ 213  192]]\n"
          ],
          "name": "stdout"
        },
        {
          "output_type": "execute_result",
          "data": {
            "text/plain": [
              "0.8605"
            ]
          },
          "metadata": {
            "tags": []
          },
          "execution_count": 22
        }
      ]
    }
  ]
}