{
 "cells": [
  {
   "cell_type": "markdown",
   "metadata": {},
   "source": [
    "# Neural Network"
   ]
  },
  {
   "cell_type": "code",
   "execution_count": 3,
   "metadata": {},
   "outputs": [],
   "source": [
    "# Importing the libraries\n",
    "import numpy as np\n",
    "import matplotlib.pyplot as plt\n",
    "import pandas as pd"
   ]
  },
  {
   "cell_type": "code",
   "execution_count": 5,
   "metadata": {
    "collapsed": true
   },
   "outputs": [],
   "source": [
    "# Importing the dataset\n",
    "dataset = pd.read_csv('Churn_Modelling.csv')\n",
    "X = dataset.iloc[:, 3:13].values\n",
    "y = dataset.iloc[:, 13].values"
   ]
  },
  {
   "cell_type": "code",
   "execution_count": 6,
   "metadata": {
    "collapsed": true
   },
   "outputs": [],
   "source": [
    "# Encoding categorical data\n",
    "from sklearn.preprocessing import LabelEncoder, OneHotEncoder\n",
    "labelencoder_X_1 = LabelEncoder()\n",
    "X[:, 1] = labelencoder_X_1.fit_transform(X[:, 1])\n",
    "labelencoder_X_2 = LabelEncoder()\n",
    "X[:, 2] = labelencoder_X_2.fit_transform(X[:, 2])\n",
    "onehotencoder = OneHotEncoder(categorical_features = [1])\n",
    "X = onehotencoder.fit_transform(X).toarray()\n",
    "X = X[:, 1:]"
   ]
  },
  {
   "cell_type": "code",
   "execution_count": 7,
   "metadata": {
    "collapsed": true
   },
   "outputs": [],
   "source": [
    "# Splitting the dataset into the Training set and Test set\n",
    "from sklearn.model_selection import train_test_split\n",
    "X_train, X_test, y_train, y_test = train_test_split(X, y, test_size = 0.2, random_state = 0)"
   ]
  },
  {
   "cell_type": "code",
   "execution_count": 8,
   "metadata": {
    "collapsed": true
   },
   "outputs": [],
   "source": [
    "# Feature Scaling\n",
    "from sklearn.preprocessing import StandardScaler\n",
    "sc = StandardScaler()\n",
    "X_train = sc.fit_transform(X_train)\n",
    "X_test = sc.transform(X_test)"
   ]
  },
  {
   "cell_type": "code",
   "execution_count": 9,
   "metadata": {},
   "outputs": [
    {
     "name": "stderr",
     "output_type": "stream",
     "text": [
      "Using TensorFlow backend.\n"
     ]
    }
   ],
   "source": [
    "# Importing the Keras libraries and packages\n",
    "import keras\n",
    "from keras.models import Sequential\n",
    "from keras.layers import Dense"
   ]
  },
  {
   "cell_type": "code",
   "execution_count": 10,
   "metadata": {
    "collapsed": true
   },
   "outputs": [],
   "source": [
    "# Initialising the ANN\n",
    "classifier = Sequential()"
   ]
  },
  {
   "cell_type": "code",
   "execution_count": 11,
   "metadata": {},
   "outputs": [
    {
     "name": "stderr",
     "output_type": "stream",
     "text": [
      "C:\\ProgramData\\Anaconda3\\lib\\site-packages\\ipykernel_launcher.py:2: UserWarning: Update your `Dense` call to the Keras 2 API: `Dense(activation=\"relu\", input_dim=11, units=6, kernel_initializer=\"uniform\")`\n",
      "  \n"
     ]
    }
   ],
   "source": [
    "# Adding the input layer and the first hidden layer\n",
    "classifier.add(Dense(output_dim = 6, init = 'uniform', activation = 'relu', input_dim = 11))"
   ]
  },
  {
   "cell_type": "code",
   "execution_count": 12,
   "metadata": {},
   "outputs": [
    {
     "name": "stderr",
     "output_type": "stream",
     "text": [
      "C:\\ProgramData\\Anaconda3\\lib\\site-packages\\ipykernel_launcher.py:2: UserWarning: Update your `Dense` call to the Keras 2 API: `Dense(activation=\"relu\", units=6, kernel_initializer=\"uniform\")`\n",
      "  \n"
     ]
    }
   ],
   "source": [
    "# Adding the second hidden layer\n",
    "classifier.add(Dense(output_dim = 6, init = 'uniform', activation = 'relu'))"
   ]
  },
  {
   "cell_type": "code",
   "execution_count": 13,
   "metadata": {},
   "outputs": [
    {
     "name": "stderr",
     "output_type": "stream",
     "text": [
      "C:\\ProgramData\\Anaconda3\\lib\\site-packages\\ipykernel_launcher.py:2: UserWarning: Update your `Dense` call to the Keras 2 API: `Dense(activation=\"sigmoid\", units=1, kernel_initializer=\"uniform\")`\n",
      "  \n"
     ]
    }
   ],
   "source": [
    "# Adding the output layer\n",
    "classifier.add(Dense(output_dim = 1, init = 'uniform', activation = 'sigmoid'))"
   ]
  },
  {
   "cell_type": "code",
   "execution_count": 14,
   "metadata": {
    "collapsed": true
   },
   "outputs": [],
   "source": [
    "# Compiling the ANN\n",
    "classifier.compile(optimizer = 'adam', loss = 'binary_crossentropy', metrics = ['accuracy'])"
   ]
  },
  {
   "cell_type": "code",
   "execution_count": 15,
   "metadata": {},
   "outputs": [
    {
     "name": "stderr",
     "output_type": "stream",
     "text": [
      "C:\\ProgramData\\Anaconda3\\lib\\site-packages\\keras\\models.py:942: UserWarning: The `nb_epoch` argument in `fit` has been renamed `epochs`.\n",
      "  warnings.warn('The `nb_epoch` argument in `fit` '\n"
     ]
    },
    {
     "name": "stdout",
     "output_type": "stream",
     "text": [
      "Epoch 1/100\n",
      "8000/8000 [==============================] - 2s 229us/step - loss: 0.4978 - acc: 0.7956\n",
      "Epoch 2/100\n",
      "8000/8000 [==============================] - 2s 203us/step - loss: 0.4299 - acc: 0.7960\n",
      "Epoch 3/100\n",
      "8000/8000 [==============================] - 1s 154us/step - loss: 0.4254 - acc: 0.7960\n",
      "Epoch 4/100\n",
      "8000/8000 [==============================] - 1s 150us/step - loss: 0.4215 - acc: 0.7986\n",
      "Epoch 5/100\n",
      "8000/8000 [==============================] - 1s 145us/step - loss: 0.4182 - acc: 0.8237\n",
      "Epoch 6/100\n",
      "8000/8000 [==============================] - 1s 163us/step - loss: 0.4162 - acc: 0.8272\n",
      "Epoch 7/100\n",
      "8000/8000 [==============================] - 1s 148us/step - loss: 0.4141 - acc: 0.8277\n",
      "Epoch 8/100\n",
      "8000/8000 [==============================] - 1s 164us/step - loss: 0.4132 - acc: 0.8306\n",
      "Epoch 9/100\n",
      "8000/8000 [==============================] - 2s 190us/step - loss: 0.4118 - acc: 0.8322\n",
      "Epoch 10/100\n",
      "8000/8000 [==============================] - 2s 249us/step - loss: 0.4106 - acc: 0.8319\n",
      "Epoch 11/100\n",
      "8000/8000 [==============================] - 2s 191us/step - loss: 0.4102 - acc: 0.8320\n",
      "Epoch 12/100\n",
      "8000/8000 [==============================] - 2s 193us/step - loss: 0.4097 - acc: 0.8329\n",
      "Epoch 13/100\n",
      "8000/8000 [==============================] - 2s 225us/step - loss: 0.4084 - acc: 0.8332\n",
      "Epoch 14/100\n",
      "8000/8000 [==============================] - 2s 200us/step - loss: 0.4083 - acc: 0.8340\n",
      "Epoch 15/100\n",
      "8000/8000 [==============================] - 2s 201us/step - loss: 0.4078 - acc: 0.8345\n",
      "Epoch 16/100\n",
      "8000/8000 [==============================] - 2s 229us/step - loss: 0.4069 - acc: 0.8339\n",
      "Epoch 17/100\n",
      "8000/8000 [==============================] - 2s 211us/step - loss: 0.4068 - acc: 0.8340\n",
      "Epoch 18/100\n",
      "8000/8000 [==============================] - 2s 228us/step - loss: 0.4063 - acc: 0.8330\n",
      "Epoch 19/100\n",
      "8000/8000 [==============================] - 2s 199us/step - loss: 0.4063 - acc: 0.8361\n",
      "Epoch 20/100\n",
      "8000/8000 [==============================] - 2s 195us/step - loss: 0.4053 - acc: 0.8342\n",
      "Epoch 21/100\n",
      "8000/8000 [==============================] - 2s 227us/step - loss: 0.4053 - acc: 0.8339\n",
      "Epoch 22/100\n",
      "8000/8000 [==============================] - 1s 181us/step - loss: 0.4048 - acc: 0.8342\n",
      "Epoch 23/100\n",
      "8000/8000 [==============================] - 2s 202us/step - loss: 0.4043 - acc: 0.8352\n",
      "Epoch 24/100\n",
      "8000/8000 [==============================] - 1s 183us/step - loss: 0.4041 - acc: 0.8347\n",
      "Epoch 25/100\n",
      "8000/8000 [==============================] - 2s 204us/step - loss: 0.4040 - acc: 0.8341\n",
      "Epoch 26/100\n",
      "8000/8000 [==============================] - 2s 209us/step - loss: 0.4035 - acc: 0.8356\n",
      "Epoch 27/100\n",
      "8000/8000 [==============================] - 1s 177us/step - loss: 0.4036 - acc: 0.8355\n",
      "Epoch 28/100\n",
      "8000/8000 [==============================] - 2s 209us/step - loss: 0.4037 - acc: 0.8346 0s - loss: 0.\n",
      "Epoch 29/100\n",
      "8000/8000 [==============================] - 2s 204us/step - loss: 0.4035 - acc: 0.8344\n",
      "Epoch 30/100\n",
      "8000/8000 [==============================] - 1s 168us/step - loss: 0.4031 - acc: 0.8342\n",
      "Epoch 31/100\n",
      "8000/8000 [==============================] - 2s 208us/step - loss: 0.4031 - acc: 0.8344\n",
      "Epoch 32/100\n",
      "8000/8000 [==============================] - 1s 174us/step - loss: 0.4029 - acc: 0.8354\n",
      "Epoch 33/100\n",
      "8000/8000 [==============================] - 2s 223us/step - loss: 0.4027 - acc: 0.8346\n",
      "Epoch 34/100\n",
      "8000/8000 [==============================] - 1s 187us/step - loss: 0.4022 - acc: 0.8337\n",
      "Epoch 35/100\n",
      "8000/8000 [==============================] - 2s 190us/step - loss: 0.4021 - acc: 0.8344\n",
      "Epoch 36/100\n",
      "8000/8000 [==============================] - 2s 232us/step - loss: 0.4025 - acc: 0.8339\n",
      "Epoch 37/100\n",
      "8000/8000 [==============================] - 2s 190us/step - loss: 0.4024 - acc: 0.8362\n",
      "Epoch 38/100\n",
      "8000/8000 [==============================] - 1s 169us/step - loss: 0.4020 - acc: 0.8340\n",
      "Epoch 39/100\n",
      "8000/8000 [==============================] - 2s 194us/step - loss: 0.4017 - acc: 0.8357\n",
      "Epoch 40/100\n",
      "8000/8000 [==============================] - 2s 194us/step - loss: 0.4020 - acc: 0.8346\n",
      "Epoch 41/100\n",
      "8000/8000 [==============================] - 1s 180us/step - loss: 0.4018 - acc: 0.8354\n",
      "Epoch 42/100\n",
      "8000/8000 [==============================] - 2s 196us/step - loss: 0.4017 - acc: 0.8354\n",
      "Epoch 43/100\n",
      "8000/8000 [==============================] - 1s 185us/step - loss: 0.4017 - acc: 0.8350\n",
      "Epoch 44/100\n",
      "8000/8000 [==============================] - 2s 240us/step - loss: 0.4016 - acc: 0.8341\n",
      "Epoch 45/100\n",
      "8000/8000 [==============================] - 2s 205us/step - loss: 0.4012 - acc: 0.8344\n",
      "Epoch 46/100\n",
      "8000/8000 [==============================] - 2s 209us/step - loss: 0.4015 - acc: 0.8361\n",
      "Epoch 47/100\n",
      "8000/8000 [==============================] - 2s 217us/step - loss: 0.4012 - acc: 0.8351\n",
      "Epoch 48/100\n",
      "8000/8000 [==============================] - 1s 172us/step - loss: 0.4011 - acc: 0.8355\n",
      "Epoch 49/100\n",
      "8000/8000 [==============================] - 2s 213us/step - loss: 0.4006 - acc: 0.8346\n",
      "Epoch 50/100\n",
      "8000/8000 [==============================] - 1s 177us/step - loss: 0.4011 - acc: 0.8364\n",
      "Epoch 51/100\n",
      "8000/8000 [==============================] - 2s 205us/step - loss: 0.4009 - acc: 0.8351\n",
      "Epoch 52/100\n",
      "8000/8000 [==============================] - 1s 184us/step - loss: 0.4010 - acc: 0.8322\n",
      "Epoch 53/100\n",
      "8000/8000 [==============================] - 2s 218us/step - loss: 0.4009 - acc: 0.8339\n",
      "Epoch 54/100\n",
      "8000/8000 [==============================] - 1s 178us/step - loss: 0.4007 - acc: 0.8341\n",
      "Epoch 55/100\n",
      "8000/8000 [==============================] - 2s 215us/step - loss: 0.4008 - acc: 0.8336\n",
      "Epoch 56/100\n",
      "8000/8000 [==============================] - 2s 210us/step - loss: 0.4009 - acc: 0.8355\n",
      "Epoch 57/100\n",
      "8000/8000 [==============================] - 2s 267us/step - loss: 0.4010 - acc: 0.8339\n",
      "Epoch 58/100\n",
      "8000/8000 [==============================] - 2s 220us/step - loss: 0.4004 - acc: 0.8357\n",
      "Epoch 59/100\n",
      "8000/8000 [==============================] - 2s 209us/step - loss: 0.4008 - acc: 0.8360\n",
      "Epoch 60/100\n",
      "8000/8000 [==============================] - 1s 162us/step - loss: 0.4001 - acc: 0.8355\n",
      "Epoch 61/100\n",
      "8000/8000 [==============================] - 2s 219us/step - loss: 0.4008 - acc: 0.8352\n",
      "Epoch 62/100\n",
      "8000/8000 [==============================] - 2s 212us/step - loss: 0.4004 - acc: 0.8350\n",
      "Epoch 63/100\n",
      "8000/8000 [==============================] - 1s 182us/step - loss: 0.4005 - acc: 0.8334\n",
      "Epoch 64/100\n",
      "8000/8000 [==============================] - 2s 219us/step - loss: 0.4007 - acc: 0.8340\n",
      "Epoch 65/100\n",
      "8000/8000 [==============================] - 1s 174us/step - loss: 0.4008 - acc: 0.8336\n",
      "Epoch 66/100\n",
      "8000/8000 [==============================] - 2s 198us/step - loss: 0.4003 - acc: 0.8355\n",
      "Epoch 67/100\n",
      "8000/8000 [==============================] - 1s 182us/step - loss: 0.4006 - acc: 0.8341\n",
      "Epoch 68/100\n",
      "8000/8000 [==============================] - 2s 217us/step - loss: 0.4005 - acc: 0.8351\n",
      "Epoch 69/100\n",
      "8000/8000 [==============================] - 2s 203us/step - loss: 0.4002 - acc: 0.8336\n",
      "Epoch 70/100\n",
      "8000/8000 [==============================] - 1s 178us/step - loss: 0.4005 - acc: 0.8357\n",
      "Epoch 71/100\n",
      "8000/8000 [==============================] - 2s 216us/step - loss: 0.4004 - acc: 0.8345\n",
      "Epoch 72/100\n",
      "8000/8000 [==============================] - 2s 216us/step - loss: 0.4008 - acc: 0.8364\n",
      "Epoch 73/100\n",
      "8000/8000 [==============================] - 1s 170us/step - loss: 0.4004 - acc: 0.8354\n",
      "Epoch 74/100\n",
      "8000/8000 [==============================] - 2s 211us/step - loss: 0.4008 - acc: 0.8350\n",
      "Epoch 75/100\n",
      "8000/8000 [==============================] - 1s 181us/step - loss: 0.4003 - acc: 0.8359\n",
      "Epoch 76/100\n",
      "8000/8000 [==============================] - 2s 216us/step - loss: 0.4005 - acc: 0.8359\n",
      "Epoch 77/100\n",
      "8000/8000 [==============================] - 1s 185us/step - loss: 0.4007 - acc: 0.8347\n",
      "Epoch 78/100\n",
      "8000/8000 [==============================] - 2s 208us/step - loss: 0.4006 - acc: 0.8360\n",
      "Epoch 79/100\n",
      "8000/8000 [==============================] - 1s 176us/step - loss: 0.4002 - acc: 0.8355\n",
      "Epoch 80/100\n",
      "8000/8000 [==============================] - 2s 202us/step - loss: 0.4006 - acc: 0.8354\n",
      "Epoch 81/100\n",
      "8000/8000 [==============================] - 1s 183us/step - loss: 0.3998 - acc: 0.8342\n",
      "Epoch 82/100\n"
     ]
    },
    {
     "name": "stdout",
     "output_type": "stream",
     "text": [
      "8000/8000 [==============================] - 1s 164us/step - loss: 0.4006 - acc: 0.8332\n",
      "Epoch 83/100\n",
      "8000/8000 [==============================] - 1s 158us/step - loss: 0.4003 - acc: 0.8329\n",
      "Epoch 84/100\n",
      "8000/8000 [==============================] - 1s 154us/step - loss: 0.4001 - acc: 0.8349\n",
      "Epoch 85/100\n",
      "8000/8000 [==============================] - 1s 165us/step - loss: 0.4001 - acc: 0.8342\n",
      "Epoch 86/100\n",
      "8000/8000 [==============================] - 1s 162us/step - loss: 0.4005 - acc: 0.8352\n",
      "Epoch 87/100\n",
      "8000/8000 [==============================] - 1s 181us/step - loss: 0.4003 - acc: 0.8356\n",
      "Epoch 88/100\n",
      "8000/8000 [==============================] - 2s 205us/step - loss: 0.4001 - acc: 0.8346\n",
      "Epoch 89/100\n",
      "8000/8000 [==============================] - 1s 177us/step - loss: 0.3995 - acc: 0.8334\n",
      "Epoch 90/100\n",
      "8000/8000 [==============================] - 1s 159us/step - loss: 0.4005 - acc: 0.8354\n",
      "Epoch 91/100\n",
      "8000/8000 [==============================] - 1s 180us/step - loss: 0.4002 - acc: 0.8359\n",
      "Epoch 92/100\n",
      "8000/8000 [==============================] - 2s 202us/step - loss: 0.4005 - acc: 0.8365\n",
      "Epoch 93/100\n",
      "8000/8000 [==============================] - 1s 170us/step - loss: 0.4004 - acc: 0.8346\n",
      "Epoch 94/100\n",
      "8000/8000 [==============================] - 1s 179us/step - loss: 0.4000 - acc: 0.8347\n",
      "Epoch 95/100\n",
      "8000/8000 [==============================] - 1s 175us/step - loss: 0.4005 - acc: 0.8351\n",
      "Epoch 96/100\n",
      "8000/8000 [==============================] - 1s 176us/step - loss: 0.4005 - acc: 0.8352\n",
      "Epoch 97/100\n",
      "8000/8000 [==============================] - 2s 190us/step - loss: 0.4002 - acc: 0.8359\n",
      "Epoch 98/100\n",
      "8000/8000 [==============================] - 1s 183us/step - loss: 0.4003 - acc: 0.8355\n",
      "Epoch 99/100\n",
      "8000/8000 [==============================] - 1s 178us/step - loss: 0.4000 - acc: 0.8346\n",
      "Epoch 100/100\n",
      "8000/8000 [==============================] - 1s 168us/step - loss: 0.4006 - acc: 0.8344\n"
     ]
    },
    {
     "data": {
      "text/plain": [
       "<keras.callbacks.History at 0x1b65a8c53c8>"
      ]
     },
     "execution_count": 15,
     "metadata": {},
     "output_type": "execute_result"
    }
   ],
   "source": [
    "# Fitting the ANN to the Training set\n",
    "classifier.fit(X_train, y_train, batch_size = 10, nb_epoch = 100)"
   ]
  },
  {
   "cell_type": "code",
   "execution_count": 17,
   "metadata": {},
   "outputs": [],
   "source": [
    "# Predicting the Test set results\n",
    "y_pred = classifier.predict(X_test)\n",
    "y_pred = (y_pred > 0.5)"
   ]
  },
  {
   "cell_type": "code",
   "execution_count": 18,
   "metadata": {
    "collapsed": true
   },
   "outputs": [],
   "source": [
    "# Making the Confusion Matrix\n",
    "from sklearn.metrics import confusion_matrix\n",
    "cm = confusion_matrix(y_test, y_pred)"
   ]
  },
  {
   "cell_type": "code",
   "execution_count": 19,
   "metadata": {},
   "outputs": [
    {
     "data": {
      "text/plain": [
       "array([[1546,   49],\n",
       "       [ 260,  145]], dtype=int64)"
      ]
     },
     "execution_count": 19,
     "metadata": {},
     "output_type": "execute_result"
    }
   ],
   "source": [
    "cm"
   ]
  },
  {
   "cell_type": "code",
   "execution_count": null,
   "metadata": {
    "collapsed": true
   },
   "outputs": [],
   "source": []
  }
 ],
 "metadata": {
  "kernelspec": {
   "display_name": "Python 3",
   "language": "python",
   "name": "python3"
  },
  "language_info": {
   "codemirror_mode": {
    "name": "ipython",
    "version": 3
   },
   "file_extension": ".py",
   "mimetype": "text/x-python",
   "name": "python",
   "nbconvert_exporter": "python",
   "pygments_lexer": "ipython3",
   "version": "3.6.3"
  }
 },
 "nbformat": 4,
 "nbformat_minor": 2
}
