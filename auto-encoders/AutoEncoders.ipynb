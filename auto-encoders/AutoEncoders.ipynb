{
  "nbformat": 4,
  "nbformat_minor": 0,
  "metadata": {
    "colab": {
      "name": "AutoEncoders",
      "provenance": [],
      "collapsed_sections": [
        "1jbiqOK7dLGG",
        "XL5MEkLcfRD2",
        "9Xis6ldDfTs6",
        "EOBJ8UCXdY0g",
        "pM04FyMudkoK"
      ],
      "toc_visible": true
    },
    "kernelspec": {
      "name": "python3",
      "display_name": "Python 3"
    },
    "accelerator": "GPU"
  },
  "cells": [
    {
      "cell_type": "markdown",
      "metadata": {
        "id": "K4f4JG1gdKqj"
      },
      "source": [
        "#AutoEncoders"
      ]
    },
    {
      "cell_type": "markdown",
      "metadata": {
        "id": "1jbiqOK7dLGG"
      },
      "source": [
        "##Downloading the dataset"
      ]
    },
    {
      "cell_type": "markdown",
      "metadata": {
        "id": "XL5MEkLcfRD2"
      },
      "source": [
        "###ML-100K"
      ]
    },
    {
      "cell_type": "code",
      "metadata": {
        "id": "rjOPzue7FCXJ",
        "outputId": "48ed0e83-4fe0-4367-87d8-1a890356c59c",
        "colab": {
          "base_uri": "https://localhost:8080/"
        }
      },
      "source": [
        "!wget \"http://files.grouplens.org/datasets/movielens/ml-100k.zip\"\n",
        "!unzip ml-100k.zip\n",
        "!ls"
      ],
      "execution_count": 1,
      "outputs": [
        {
          "output_type": "stream",
          "name": "stdout",
          "text": [
            "--2022-06-05 13:36:07--  http://files.grouplens.org/datasets/movielens/ml-100k.zip\n",
            "Resolving files.grouplens.org (files.grouplens.org)... 128.101.65.152\n",
            "Connecting to files.grouplens.org (files.grouplens.org)|128.101.65.152|:80... connected.\n",
            "HTTP request sent, awaiting response... 200 OK\n",
            "Length: 4924029 (4.7M) [application/zip]\n",
            "Saving to: ‘ml-100k.zip’\n",
            "\n",
            "ml-100k.zip         100%[===================>]   4.70M  29.4MB/s    in 0.2s    \n",
            "\n",
            "2022-06-05 13:36:07 (29.4 MB/s) - ‘ml-100k.zip’ saved [4924029/4924029]\n",
            "\n",
            "Archive:  ml-100k.zip\n",
            "   creating: ml-100k/\n",
            "  inflating: ml-100k/allbut.pl       \n",
            "  inflating: ml-100k/mku.sh          \n",
            "  inflating: ml-100k/README          \n",
            "  inflating: ml-100k/u.data          \n",
            "  inflating: ml-100k/u.genre         \n",
            "  inflating: ml-100k/u.info          \n",
            "  inflating: ml-100k/u.item          \n",
            "  inflating: ml-100k/u.occupation    \n",
            "  inflating: ml-100k/u.user          \n",
            "  inflating: ml-100k/u1.base         \n",
            "  inflating: ml-100k/u1.test         \n",
            "  inflating: ml-100k/u2.base         \n",
            "  inflating: ml-100k/u2.test         \n",
            "  inflating: ml-100k/u3.base         \n",
            "  inflating: ml-100k/u3.test         \n",
            "  inflating: ml-100k/u4.base         \n",
            "  inflating: ml-100k/u4.test         \n",
            "  inflating: ml-100k/u5.base         \n",
            "  inflating: ml-100k/u5.test         \n",
            "  inflating: ml-100k/ua.base         \n",
            "  inflating: ml-100k/ua.test         \n",
            "  inflating: ml-100k/ub.base         \n",
            "  inflating: ml-100k/ub.test         \n",
            "ml-100k  ml-100k.zip  sample_data\n"
          ]
        }
      ]
    },
    {
      "cell_type": "markdown",
      "metadata": {
        "id": "9Xis6ldDfTs6"
      },
      "source": [
        "###ML-1M"
      ]
    },
    {
      "cell_type": "code",
      "metadata": {
        "id": "LOly1yfAfTjd",
        "outputId": "45c81c9f-d1bd-4625-dfee-abeb86fc6e44",
        "colab": {
          "base_uri": "https://localhost:8080/"
        }
      },
      "source": [
        "!wget \"http://files.grouplens.org/datasets/movielens/ml-1m.zip\"\n",
        "!unzip ml-1m.zip\n",
        "!ls"
      ],
      "execution_count": 2,
      "outputs": [
        {
          "output_type": "stream",
          "name": "stdout",
          "text": [
            "--2022-06-05 13:36:15--  http://files.grouplens.org/datasets/movielens/ml-1m.zip\n",
            "Resolving files.grouplens.org (files.grouplens.org)... 128.101.65.152\n",
            "Connecting to files.grouplens.org (files.grouplens.org)|128.101.65.152|:80... connected.\n",
            "HTTP request sent, awaiting response... 200 OK\n",
            "Length: 5917549 (5.6M) [application/zip]\n",
            "Saving to: ‘ml-1m.zip’\n",
            "\n",
            "\rml-1m.zip             0%[                    ]       0  --.-KB/s               \rml-1m.zip           100%[===================>]   5.64M  32.5MB/s    in 0.2s    \n",
            "\n",
            "2022-06-05 13:36:16 (32.5 MB/s) - ‘ml-1m.zip’ saved [5917549/5917549]\n",
            "\n",
            "Archive:  ml-1m.zip\n",
            "   creating: ml-1m/\n",
            "  inflating: ml-1m/movies.dat        \n",
            "  inflating: ml-1m/ratings.dat       \n",
            "  inflating: ml-1m/README            \n",
            "  inflating: ml-1m/users.dat         \n",
            "ml-100k  ml-100k.zip  ml-1m  ml-1m.zip\tsample_data\n"
          ]
        }
      ]
    },
    {
      "cell_type": "markdown",
      "metadata": {
        "id": "EOBJ8UCXdY0g"
      },
      "source": [
        "##Importing the libraries"
      ]
    },
    {
      "cell_type": "code",
      "metadata": {
        "id": "_LvGeU1CeCtg"
      },
      "source": [
        "import numpy as np\n",
        "import pandas as pd\n",
        "import torch\n",
        "import torch.nn as nn\n",
        "import torch.nn.parallel\n",
        "import torch.optim as optim\n",
        "import torch.utils.data\n",
        "from torch.autograd import Variable"
      ],
      "execution_count": 3,
      "outputs": []
    },
    {
      "cell_type": "markdown",
      "metadata": {
        "id": "pM04FyMudkoK"
      },
      "source": [
        "## Importing the dataset\n"
      ]
    },
    {
      "cell_type": "code",
      "metadata": {
        "id": "UJw2p3-Cewo4",
        "colab": {
          "base_uri": "https://localhost:8080/",
          "height": 206
        },
        "outputId": "66f1eb51-bb4f-40d3-9244-f88d7709b9f7"
      },
      "source": [
        "# all movies.\n",
        "movies = pd.read_csv('ml-1m/movies.dat', sep = '::', header = None, engine = 'python', encoding = 'latin-1')\n",
        "movies.head()"
      ],
      "execution_count": 4,
      "outputs": [
        {
          "output_type": "execute_result",
          "data": {
            "text/plain": [
              "   0                                   1                             2\n",
              "0  1                    Toy Story (1995)   Animation|Children's|Comedy\n",
              "1  2                      Jumanji (1995)  Adventure|Children's|Fantasy\n",
              "2  3             Grumpier Old Men (1995)                Comedy|Romance\n",
              "3  4            Waiting to Exhale (1995)                  Comedy|Drama\n",
              "4  5  Father of the Bride Part II (1995)                        Comedy"
            ],
            "text/html": [
              "\n",
              "  <div id=\"df-ee9fe637-784a-407e-8065-e13b0fd8454f\">\n",
              "    <div class=\"colab-df-container\">\n",
              "      <div>\n",
              "<style scoped>\n",
              "    .dataframe tbody tr th:only-of-type {\n",
              "        vertical-align: middle;\n",
              "    }\n",
              "\n",
              "    .dataframe tbody tr th {\n",
              "        vertical-align: top;\n",
              "    }\n",
              "\n",
              "    .dataframe thead th {\n",
              "        text-align: right;\n",
              "    }\n",
              "</style>\n",
              "<table border=\"1\" class=\"dataframe\">\n",
              "  <thead>\n",
              "    <tr style=\"text-align: right;\">\n",
              "      <th></th>\n",
              "      <th>0</th>\n",
              "      <th>1</th>\n",
              "      <th>2</th>\n",
              "    </tr>\n",
              "  </thead>\n",
              "  <tbody>\n",
              "    <tr>\n",
              "      <th>0</th>\n",
              "      <td>1</td>\n",
              "      <td>Toy Story (1995)</td>\n",
              "      <td>Animation|Children's|Comedy</td>\n",
              "    </tr>\n",
              "    <tr>\n",
              "      <th>1</th>\n",
              "      <td>2</td>\n",
              "      <td>Jumanji (1995)</td>\n",
              "      <td>Adventure|Children's|Fantasy</td>\n",
              "    </tr>\n",
              "    <tr>\n",
              "      <th>2</th>\n",
              "      <td>3</td>\n",
              "      <td>Grumpier Old Men (1995)</td>\n",
              "      <td>Comedy|Romance</td>\n",
              "    </tr>\n",
              "    <tr>\n",
              "      <th>3</th>\n",
              "      <td>4</td>\n",
              "      <td>Waiting to Exhale (1995)</td>\n",
              "      <td>Comedy|Drama</td>\n",
              "    </tr>\n",
              "    <tr>\n",
              "      <th>4</th>\n",
              "      <td>5</td>\n",
              "      <td>Father of the Bride Part II (1995)</td>\n",
              "      <td>Comedy</td>\n",
              "    </tr>\n",
              "  </tbody>\n",
              "</table>\n",
              "</div>\n",
              "      <button class=\"colab-df-convert\" onclick=\"convertToInteractive('df-ee9fe637-784a-407e-8065-e13b0fd8454f')\"\n",
              "              title=\"Convert this dataframe to an interactive table.\"\n",
              "              style=\"display:none;\">\n",
              "        \n",
              "  <svg xmlns=\"http://www.w3.org/2000/svg\" height=\"24px\"viewBox=\"0 0 24 24\"\n",
              "       width=\"24px\">\n",
              "    <path d=\"M0 0h24v24H0V0z\" fill=\"none\"/>\n",
              "    <path d=\"M18.56 5.44l.94 2.06.94-2.06 2.06-.94-2.06-.94-.94-2.06-.94 2.06-2.06.94zm-11 1L8.5 8.5l.94-2.06 2.06-.94-2.06-.94L8.5 2.5l-.94 2.06-2.06.94zm10 10l.94 2.06.94-2.06 2.06-.94-2.06-.94-.94-2.06-.94 2.06-2.06.94z\"/><path d=\"M17.41 7.96l-1.37-1.37c-.4-.4-.92-.59-1.43-.59-.52 0-1.04.2-1.43.59L10.3 9.45l-7.72 7.72c-.78.78-.78 2.05 0 2.83L4 21.41c.39.39.9.59 1.41.59.51 0 1.02-.2 1.41-.59l7.78-7.78 2.81-2.81c.8-.78.8-2.07 0-2.86zM5.41 20L4 18.59l7.72-7.72 1.47 1.35L5.41 20z\"/>\n",
              "  </svg>\n",
              "      </button>\n",
              "      \n",
              "  <style>\n",
              "    .colab-df-container {\n",
              "      display:flex;\n",
              "      flex-wrap:wrap;\n",
              "      gap: 12px;\n",
              "    }\n",
              "\n",
              "    .colab-df-convert {\n",
              "      background-color: #E8F0FE;\n",
              "      border: none;\n",
              "      border-radius: 50%;\n",
              "      cursor: pointer;\n",
              "      display: none;\n",
              "      fill: #1967D2;\n",
              "      height: 32px;\n",
              "      padding: 0 0 0 0;\n",
              "      width: 32px;\n",
              "    }\n",
              "\n",
              "    .colab-df-convert:hover {\n",
              "      background-color: #E2EBFA;\n",
              "      box-shadow: 0px 1px 2px rgba(60, 64, 67, 0.3), 0px 1px 3px 1px rgba(60, 64, 67, 0.15);\n",
              "      fill: #174EA6;\n",
              "    }\n",
              "\n",
              "    [theme=dark] .colab-df-convert {\n",
              "      background-color: #3B4455;\n",
              "      fill: #D2E3FC;\n",
              "    }\n",
              "\n",
              "    [theme=dark] .colab-df-convert:hover {\n",
              "      background-color: #434B5C;\n",
              "      box-shadow: 0px 1px 3px 1px rgba(0, 0, 0, 0.15);\n",
              "      filter: drop-shadow(0px 1px 2px rgba(0, 0, 0, 0.3));\n",
              "      fill: #FFFFFF;\n",
              "    }\n",
              "  </style>\n",
              "\n",
              "      <script>\n",
              "        const buttonEl =\n",
              "          document.querySelector('#df-ee9fe637-784a-407e-8065-e13b0fd8454f button.colab-df-convert');\n",
              "        buttonEl.style.display =\n",
              "          google.colab.kernel.accessAllowed ? 'block' : 'none';\n",
              "\n",
              "        async function convertToInteractive(key) {\n",
              "          const element = document.querySelector('#df-ee9fe637-784a-407e-8065-e13b0fd8454f');\n",
              "          const dataTable =\n",
              "            await google.colab.kernel.invokeFunction('convertToInteractive',\n",
              "                                                     [key], {});\n",
              "          if (!dataTable) return;\n",
              "\n",
              "          const docLinkHtml = 'Like what you see? Visit the ' +\n",
              "            '<a target=\"_blank\" href=https://colab.research.google.com/notebooks/data_table.ipynb>data table notebook</a>'\n",
              "            + ' to learn more about interactive tables.';\n",
              "          element.innerHTML = '';\n",
              "          dataTable['output_type'] = 'display_data';\n",
              "          await google.colab.output.renderOutput(dataTable, element);\n",
              "          const docLink = document.createElement('div');\n",
              "          docLink.innerHTML = docLinkHtml;\n",
              "          element.appendChild(docLink);\n",
              "        }\n",
              "      </script>\n",
              "    </div>\n",
              "  </div>\n",
              "  "
            ]
          },
          "metadata": {},
          "execution_count": 4
        }
      ]
    },
    {
      "cell_type": "code",
      "source": [
        "# all users\n",
        "users = pd.read_csv('ml-1m/users.dat', sep = '::', header = None, engine = 'python', encoding = 'latin-1')\n",
        "users.head()"
      ],
      "metadata": {
        "colab": {
          "base_uri": "https://localhost:8080/",
          "height": 206
        },
        "id": "kg_7QjHxGaS2",
        "outputId": "392d4f16-b2c0-495a-d8e1-06ba9f4c14bb"
      },
      "execution_count": 6,
      "outputs": [
        {
          "output_type": "execute_result",
          "data": {
            "text/plain": [
              "   0  1   2   3      4\n",
              "0  1  F   1  10  48067\n",
              "1  2  M  56  16  70072\n",
              "2  3  M  25  15  55117\n",
              "3  4  M  45   7  02460\n",
              "4  5  M  25  20  55455"
            ],
            "text/html": [
              "\n",
              "  <div id=\"df-aa104bfc-5f3a-4cbd-b0d0-ad02e6605bff\">\n",
              "    <div class=\"colab-df-container\">\n",
              "      <div>\n",
              "<style scoped>\n",
              "    .dataframe tbody tr th:only-of-type {\n",
              "        vertical-align: middle;\n",
              "    }\n",
              "\n",
              "    .dataframe tbody tr th {\n",
              "        vertical-align: top;\n",
              "    }\n",
              "\n",
              "    .dataframe thead th {\n",
              "        text-align: right;\n",
              "    }\n",
              "</style>\n",
              "<table border=\"1\" class=\"dataframe\">\n",
              "  <thead>\n",
              "    <tr style=\"text-align: right;\">\n",
              "      <th></th>\n",
              "      <th>0</th>\n",
              "      <th>1</th>\n",
              "      <th>2</th>\n",
              "      <th>3</th>\n",
              "      <th>4</th>\n",
              "    </tr>\n",
              "  </thead>\n",
              "  <tbody>\n",
              "    <tr>\n",
              "      <th>0</th>\n",
              "      <td>1</td>\n",
              "      <td>F</td>\n",
              "      <td>1</td>\n",
              "      <td>10</td>\n",
              "      <td>48067</td>\n",
              "    </tr>\n",
              "    <tr>\n",
              "      <th>1</th>\n",
              "      <td>2</td>\n",
              "      <td>M</td>\n",
              "      <td>56</td>\n",
              "      <td>16</td>\n",
              "      <td>70072</td>\n",
              "    </tr>\n",
              "    <tr>\n",
              "      <th>2</th>\n",
              "      <td>3</td>\n",
              "      <td>M</td>\n",
              "      <td>25</td>\n",
              "      <td>15</td>\n",
              "      <td>55117</td>\n",
              "    </tr>\n",
              "    <tr>\n",
              "      <th>3</th>\n",
              "      <td>4</td>\n",
              "      <td>M</td>\n",
              "      <td>45</td>\n",
              "      <td>7</td>\n",
              "      <td>02460</td>\n",
              "    </tr>\n",
              "    <tr>\n",
              "      <th>4</th>\n",
              "      <td>5</td>\n",
              "      <td>M</td>\n",
              "      <td>25</td>\n",
              "      <td>20</td>\n",
              "      <td>55455</td>\n",
              "    </tr>\n",
              "  </tbody>\n",
              "</table>\n",
              "</div>\n",
              "      <button class=\"colab-df-convert\" onclick=\"convertToInteractive('df-aa104bfc-5f3a-4cbd-b0d0-ad02e6605bff')\"\n",
              "              title=\"Convert this dataframe to an interactive table.\"\n",
              "              style=\"display:none;\">\n",
              "        \n",
              "  <svg xmlns=\"http://www.w3.org/2000/svg\" height=\"24px\"viewBox=\"0 0 24 24\"\n",
              "       width=\"24px\">\n",
              "    <path d=\"M0 0h24v24H0V0z\" fill=\"none\"/>\n",
              "    <path d=\"M18.56 5.44l.94 2.06.94-2.06 2.06-.94-2.06-.94-.94-2.06-.94 2.06-2.06.94zm-11 1L8.5 8.5l.94-2.06 2.06-.94-2.06-.94L8.5 2.5l-.94 2.06-2.06.94zm10 10l.94 2.06.94-2.06 2.06-.94-2.06-.94-.94-2.06-.94 2.06-2.06.94z\"/><path d=\"M17.41 7.96l-1.37-1.37c-.4-.4-.92-.59-1.43-.59-.52 0-1.04.2-1.43.59L10.3 9.45l-7.72 7.72c-.78.78-.78 2.05 0 2.83L4 21.41c.39.39.9.59 1.41.59.51 0 1.02-.2 1.41-.59l7.78-7.78 2.81-2.81c.8-.78.8-2.07 0-2.86zM5.41 20L4 18.59l7.72-7.72 1.47 1.35L5.41 20z\"/>\n",
              "  </svg>\n",
              "      </button>\n",
              "      \n",
              "  <style>\n",
              "    .colab-df-container {\n",
              "      display:flex;\n",
              "      flex-wrap:wrap;\n",
              "      gap: 12px;\n",
              "    }\n",
              "\n",
              "    .colab-df-convert {\n",
              "      background-color: #E8F0FE;\n",
              "      border: none;\n",
              "      border-radius: 50%;\n",
              "      cursor: pointer;\n",
              "      display: none;\n",
              "      fill: #1967D2;\n",
              "      height: 32px;\n",
              "      padding: 0 0 0 0;\n",
              "      width: 32px;\n",
              "    }\n",
              "\n",
              "    .colab-df-convert:hover {\n",
              "      background-color: #E2EBFA;\n",
              "      box-shadow: 0px 1px 2px rgba(60, 64, 67, 0.3), 0px 1px 3px 1px rgba(60, 64, 67, 0.15);\n",
              "      fill: #174EA6;\n",
              "    }\n",
              "\n",
              "    [theme=dark] .colab-df-convert {\n",
              "      background-color: #3B4455;\n",
              "      fill: #D2E3FC;\n",
              "    }\n",
              "\n",
              "    [theme=dark] .colab-df-convert:hover {\n",
              "      background-color: #434B5C;\n",
              "      box-shadow: 0px 1px 3px 1px rgba(0, 0, 0, 0.15);\n",
              "      filter: drop-shadow(0px 1px 2px rgba(0, 0, 0, 0.3));\n",
              "      fill: #FFFFFF;\n",
              "    }\n",
              "  </style>\n",
              "\n",
              "      <script>\n",
              "        const buttonEl =\n",
              "          document.querySelector('#df-aa104bfc-5f3a-4cbd-b0d0-ad02e6605bff button.colab-df-convert');\n",
              "        buttonEl.style.display =\n",
              "          google.colab.kernel.accessAllowed ? 'block' : 'none';\n",
              "\n",
              "        async function convertToInteractive(key) {\n",
              "          const element = document.querySelector('#df-aa104bfc-5f3a-4cbd-b0d0-ad02e6605bff');\n",
              "          const dataTable =\n",
              "            await google.colab.kernel.invokeFunction('convertToInteractive',\n",
              "                                                     [key], {});\n",
              "          if (!dataTable) return;\n",
              "\n",
              "          const docLinkHtml = 'Like what you see? Visit the ' +\n",
              "            '<a target=\"_blank\" href=https://colab.research.google.com/notebooks/data_table.ipynb>data table notebook</a>'\n",
              "            + ' to learn more about interactive tables.';\n",
              "          element.innerHTML = '';\n",
              "          dataTable['output_type'] = 'display_data';\n",
              "          await google.colab.output.renderOutput(dataTable, element);\n",
              "          const docLink = document.createElement('div');\n",
              "          docLink.innerHTML = docLinkHtml;\n",
              "          element.appendChild(docLink);\n",
              "        }\n",
              "      </script>\n",
              "    </div>\n",
              "  </div>\n",
              "  "
            ]
          },
          "metadata": {},
          "execution_count": 6
        }
      ]
    },
    {
      "cell_type": "code",
      "source": [
        "# all ratings\n",
        "ratings = pd.read_csv('ml-1m/ratings.dat', sep = '::', header = None, engine = 'python', encoding = 'latin-1')\n",
        "ratings.rename({0:\"UserID\", 1:\"MovieID\", 2:\"Rating\", 3:\"Timestamp\"}, axis= 1, inplace= True)\n",
        "ratings[\"Date\"] = pd.to_datetime(ratings[\"Timestamp\"], unit='s').apply(lambda x : x.date())\n",
        "ratings.head()"
      ],
      "metadata": {
        "colab": {
          "base_uri": "https://localhost:8080/",
          "height": 206
        },
        "id": "JY4tWKNuGk0_",
        "outputId": "0edaafb4-486f-4fba-d762-5d2c726e49d8"
      },
      "execution_count": 23,
      "outputs": [
        {
          "output_type": "execute_result",
          "data": {
            "text/plain": [
              "   UserID  MovieID  Rating  Timestamp        Date\n",
              "0       1     1193       5  978300760  2000-12-31\n",
              "1       1      661       3  978302109  2000-12-31\n",
              "2       1      914       3  978301968  2000-12-31\n",
              "3       1     3408       4  978300275  2000-12-31\n",
              "4       1     2355       5  978824291  2001-01-06"
            ],
            "text/html": [
              "\n",
              "  <div id=\"df-74585f2e-4dfd-4ae0-a9b7-a6353627ff67\">\n",
              "    <div class=\"colab-df-container\">\n",
              "      <div>\n",
              "<style scoped>\n",
              "    .dataframe tbody tr th:only-of-type {\n",
              "        vertical-align: middle;\n",
              "    }\n",
              "\n",
              "    .dataframe tbody tr th {\n",
              "        vertical-align: top;\n",
              "    }\n",
              "\n",
              "    .dataframe thead th {\n",
              "        text-align: right;\n",
              "    }\n",
              "</style>\n",
              "<table border=\"1\" class=\"dataframe\">\n",
              "  <thead>\n",
              "    <tr style=\"text-align: right;\">\n",
              "      <th></th>\n",
              "      <th>UserID</th>\n",
              "      <th>MovieID</th>\n",
              "      <th>Rating</th>\n",
              "      <th>Timestamp</th>\n",
              "      <th>Date</th>\n",
              "    </tr>\n",
              "  </thead>\n",
              "  <tbody>\n",
              "    <tr>\n",
              "      <th>0</th>\n",
              "      <td>1</td>\n",
              "      <td>1193</td>\n",
              "      <td>5</td>\n",
              "      <td>978300760</td>\n",
              "      <td>2000-12-31</td>\n",
              "    </tr>\n",
              "    <tr>\n",
              "      <th>1</th>\n",
              "      <td>1</td>\n",
              "      <td>661</td>\n",
              "      <td>3</td>\n",
              "      <td>978302109</td>\n",
              "      <td>2000-12-31</td>\n",
              "    </tr>\n",
              "    <tr>\n",
              "      <th>2</th>\n",
              "      <td>1</td>\n",
              "      <td>914</td>\n",
              "      <td>3</td>\n",
              "      <td>978301968</td>\n",
              "      <td>2000-12-31</td>\n",
              "    </tr>\n",
              "    <tr>\n",
              "      <th>3</th>\n",
              "      <td>1</td>\n",
              "      <td>3408</td>\n",
              "      <td>4</td>\n",
              "      <td>978300275</td>\n",
              "      <td>2000-12-31</td>\n",
              "    </tr>\n",
              "    <tr>\n",
              "      <th>4</th>\n",
              "      <td>1</td>\n",
              "      <td>2355</td>\n",
              "      <td>5</td>\n",
              "      <td>978824291</td>\n",
              "      <td>2001-01-06</td>\n",
              "    </tr>\n",
              "  </tbody>\n",
              "</table>\n",
              "</div>\n",
              "      <button class=\"colab-df-convert\" onclick=\"convertToInteractive('df-74585f2e-4dfd-4ae0-a9b7-a6353627ff67')\"\n",
              "              title=\"Convert this dataframe to an interactive table.\"\n",
              "              style=\"display:none;\">\n",
              "        \n",
              "  <svg xmlns=\"http://www.w3.org/2000/svg\" height=\"24px\"viewBox=\"0 0 24 24\"\n",
              "       width=\"24px\">\n",
              "    <path d=\"M0 0h24v24H0V0z\" fill=\"none\"/>\n",
              "    <path d=\"M18.56 5.44l.94 2.06.94-2.06 2.06-.94-2.06-.94-.94-2.06-.94 2.06-2.06.94zm-11 1L8.5 8.5l.94-2.06 2.06-.94-2.06-.94L8.5 2.5l-.94 2.06-2.06.94zm10 10l.94 2.06.94-2.06 2.06-.94-2.06-.94-.94-2.06-.94 2.06-2.06.94z\"/><path d=\"M17.41 7.96l-1.37-1.37c-.4-.4-.92-.59-1.43-.59-.52 0-1.04.2-1.43.59L10.3 9.45l-7.72 7.72c-.78.78-.78 2.05 0 2.83L4 21.41c.39.39.9.59 1.41.59.51 0 1.02-.2 1.41-.59l7.78-7.78 2.81-2.81c.8-.78.8-2.07 0-2.86zM5.41 20L4 18.59l7.72-7.72 1.47 1.35L5.41 20z\"/>\n",
              "  </svg>\n",
              "      </button>\n",
              "      \n",
              "  <style>\n",
              "    .colab-df-container {\n",
              "      display:flex;\n",
              "      flex-wrap:wrap;\n",
              "      gap: 12px;\n",
              "    }\n",
              "\n",
              "    .colab-df-convert {\n",
              "      background-color: #E8F0FE;\n",
              "      border: none;\n",
              "      border-radius: 50%;\n",
              "      cursor: pointer;\n",
              "      display: none;\n",
              "      fill: #1967D2;\n",
              "      height: 32px;\n",
              "      padding: 0 0 0 0;\n",
              "      width: 32px;\n",
              "    }\n",
              "\n",
              "    .colab-df-convert:hover {\n",
              "      background-color: #E2EBFA;\n",
              "      box-shadow: 0px 1px 2px rgba(60, 64, 67, 0.3), 0px 1px 3px 1px rgba(60, 64, 67, 0.15);\n",
              "      fill: #174EA6;\n",
              "    }\n",
              "\n",
              "    [theme=dark] .colab-df-convert {\n",
              "      background-color: #3B4455;\n",
              "      fill: #D2E3FC;\n",
              "    }\n",
              "\n",
              "    [theme=dark] .colab-df-convert:hover {\n",
              "      background-color: #434B5C;\n",
              "      box-shadow: 0px 1px 3px 1px rgba(0, 0, 0, 0.15);\n",
              "      filter: drop-shadow(0px 1px 2px rgba(0, 0, 0, 0.3));\n",
              "      fill: #FFFFFF;\n",
              "    }\n",
              "  </style>\n",
              "\n",
              "      <script>\n",
              "        const buttonEl =\n",
              "          document.querySelector('#df-74585f2e-4dfd-4ae0-a9b7-a6353627ff67 button.colab-df-convert');\n",
              "        buttonEl.style.display =\n",
              "          google.colab.kernel.accessAllowed ? 'block' : 'none';\n",
              "\n",
              "        async function convertToInteractive(key) {\n",
              "          const element = document.querySelector('#df-74585f2e-4dfd-4ae0-a9b7-a6353627ff67');\n",
              "          const dataTable =\n",
              "            await google.colab.kernel.invokeFunction('convertToInteractive',\n",
              "                                                     [key], {});\n",
              "          if (!dataTable) return;\n",
              "\n",
              "          const docLinkHtml = 'Like what you see? Visit the ' +\n",
              "            '<a target=\"_blank\" href=https://colab.research.google.com/notebooks/data_table.ipynb>data table notebook</a>'\n",
              "            + ' to learn more about interactive tables.';\n",
              "          element.innerHTML = '';\n",
              "          dataTable['output_type'] = 'display_data';\n",
              "          await google.colab.output.renderOutput(dataTable, element);\n",
              "          const docLink = document.createElement('div');\n",
              "          docLink.innerHTML = docLinkHtml;\n",
              "          element.appendChild(docLink);\n",
              "        }\n",
              "      </script>\n",
              "    </div>\n",
              "  </div>\n",
              "  "
            ]
          },
          "metadata": {},
          "execution_count": 23
        }
      ]
    },
    {
      "cell_type": "markdown",
      "metadata": {
        "id": "yTIbE2tkdkwP"
      },
      "source": [
        "## Preparing the training set and the test set\n"
      ]
    },
    {
      "cell_type": "code",
      "metadata": {
        "id": "2usLKJBEgPE2",
        "colab": {
          "base_uri": "https://localhost:8080/"
        },
        "outputId": "279baa02-c913-44f5-b622-fd61981bbb0b"
      },
      "source": [
        "training_set = pd.read_csv('ml-100k/u1.base', delimiter = '\\t')\n",
        "training_set = np.array(training_set, dtype = 'int') # convert to numpy array to be used with pytorch\n",
        "test_set = pd.read_csv('ml-100k/u1.test', delimiter = '\\t')\n",
        "test_set = np.array(test_set, dtype = 'int') # convert to numpy array to be used with pytorch\n",
        "\n",
        "print(\"All ratings:\\t\", len(ratings), \"\\t\", (len(ratings) / len(ratings) * 100), \"%\")\n",
        "print(\"Training set:\\t\", len(training_set), \"\\t\\t\", (len(training_set) / len(ratings) * 100), \"%\")\n",
        "print(\"Test set:\\t\", len(test_set), \"\\t\\t\", (len(test_set) / len(ratings) * 100), \"%\")"
      ],
      "execution_count": 42,
      "outputs": [
        {
          "output_type": "stream",
          "name": "stdout",
          "text": [
            "All ratings:\t 1000209 \t 100.0 %\n",
            "Training set:\t 79999 \t\t 7.998228370270613 %\n",
            "Test set:\t 19999 \t\t 1.9994821082393779 %\n"
          ]
        }
      ]
    },
    {
      "cell_type": "markdown",
      "metadata": {
        "id": "zCf8HjSydk4s"
      },
      "source": [
        "## Getting the number of users and movies\n"
      ]
    },
    {
      "cell_type": "code",
      "metadata": {
        "id": "gPaGZqdniC5m"
      },
      "source": [
        "nb_users = int(max(max(training_set[:, 0], ), max(test_set[:, 0])))\n",
        "nb_movies = int(max(max(training_set[:, 1], ), max(test_set[:, 1])))"
      ],
      "execution_count": 43,
      "outputs": []
    },
    {
      "cell_type": "markdown",
      "metadata": {
        "id": "J-w4-hVidlAm"
      },
      "source": [
        "## Converting the data into an array with users in lines and movies in columns\n"
      ]
    },
    {
      "cell_type": "code",
      "metadata": {
        "id": "-wASs2YFiDaa"
      },
      "source": [
        "def convert(data):\n",
        "  new_data = []\n",
        "  for id_users in range(1, nb_users + 1):\n",
        "    id_movies = data[:, 1] [data[:, 0] == id_users]\n",
        "    id_ratings = data[:, 2] [data[:, 0] == id_users]\n",
        "    ratings = np.zeros(nb_movies)\n",
        "    ratings[id_movies - 1] = id_ratings\n",
        "    new_data.append(list(ratings))\n",
        "  return new_data\n",
        "training_set = convert(training_set)\n",
        "test_set = convert(test_set)"
      ],
      "execution_count": 44,
      "outputs": []
    },
    {
      "cell_type": "markdown",
      "metadata": {
        "id": "AMmhuUpldlHo"
      },
      "source": [
        "## Converting the data into Torch tensors\n"
      ]
    },
    {
      "cell_type": "code",
      "metadata": {
        "id": "TwD-KD8yiEEw"
      },
      "source": [
        "training_set = torch.FloatTensor(training_set)\n",
        "test_set = torch.FloatTensor(test_set)"
      ],
      "execution_count": 45,
      "outputs": []
    },
    {
      "cell_type": "markdown",
      "metadata": {
        "id": "6kkL8NkkdlZj"
      },
      "source": [
        "## Creating the architecture of the Neural Network\n"
      ]
    },
    {
      "cell_type": "code",
      "metadata": {
        "id": "oU2nyh76iE6M"
      },
      "source": [
        "class SAE(nn.Module):\n",
        "    def __init__(self, ):\n",
        "        super(SAE, self).__init__()\n",
        "        self.fc1 = nn.Linear(nb_movies, 20)\n",
        "        self.fc2 = nn.Linear(20, 10)\n",
        "        self.fc3 = nn.Linear(10, 20)\n",
        "        self.fc4 = nn.Linear(20, nb_movies)\n",
        "        self.activation = nn.Sigmoid()\n",
        "    def forward(self, x):\n",
        "        x = self.activation(self.fc1(x))\n",
        "        x = self.activation(self.fc2(x))\n",
        "        x = self.activation(self.fc3(x))\n",
        "        x = self.fc4(x)\n",
        "        return x\n",
        "sae = SAE()\n",
        "criterion = nn.MSELoss()\n",
        "optimizer = optim.RMSprop(sae.parameters(), lr = 0.01, weight_decay = 0.5)"
      ],
      "execution_count": 46,
      "outputs": []
    },
    {
      "cell_type": "markdown",
      "metadata": {
        "id": "7gy59alAdloL"
      },
      "source": [
        "## Training the SAE\n"
      ]
    },
    {
      "cell_type": "code",
      "metadata": {
        "id": "FEz9hRaciFTs",
        "colab": {
          "base_uri": "https://localhost:8080/"
        },
        "outputId": "ce0cfc5d-e280-4d0f-c0f7-2ef6845a971a"
      },
      "source": [
        "nb_epoch = 200\n",
        "for epoch in range(1, nb_epoch + 1):\n",
        "  train_loss = 0\n",
        "  s = 0.\n",
        "  for id_user in range(nb_users):\n",
        "    input = Variable(training_set[id_user]).unsqueeze(0)\n",
        "    target = input.clone()\n",
        "    if torch.sum(target.data > 0) > 0:\n",
        "      output = sae(input)\n",
        "      target.require_grad = False\n",
        "      output[target == 0] = 0\n",
        "      loss = criterion(output, target)\n",
        "      mean_corrector = nb_movies/float(torch.sum(target.data > 0) + 1e-10)\n",
        "      loss.backward()\n",
        "      train_loss += np.sqrt(loss.data*mean_corrector)\n",
        "      s += 1.\n",
        "      optimizer.step()\n",
        "  print('epoch: '+str(epoch)+'loss: '+ str(train_loss/s))"
      ],
      "execution_count": 47,
      "outputs": [
        {
          "output_type": "stream",
          "name": "stdout",
          "text": [
            "epoch: 1loss: tensor(1.7713)\n",
            "epoch: 2loss: tensor(1.0967)\n",
            "epoch: 3loss: tensor(1.0534)\n",
            "epoch: 4loss: tensor(1.0381)\n",
            "epoch: 5loss: tensor(1.0310)\n",
            "epoch: 6loss: tensor(1.0264)\n",
            "epoch: 7loss: tensor(1.0240)\n",
            "epoch: 8loss: tensor(1.0220)\n",
            "epoch: 9loss: tensor(1.0209)\n",
            "epoch: 10loss: tensor(1.0199)\n",
            "epoch: 11loss: tensor(1.0189)\n",
            "epoch: 12loss: tensor(1.0184)\n",
            "epoch: 13loss: tensor(1.0179)\n",
            "epoch: 14loss: tensor(1.0176)\n",
            "epoch: 15loss: tensor(1.0173)\n",
            "epoch: 16loss: tensor(1.0169)\n",
            "epoch: 17loss: tensor(1.0168)\n",
            "epoch: 18loss: tensor(1.0166)\n",
            "epoch: 19loss: tensor(1.0165)\n",
            "epoch: 20loss: tensor(1.0164)\n",
            "epoch: 21loss: tensor(1.0164)\n",
            "epoch: 22loss: tensor(1.0160)\n",
            "epoch: 23loss: tensor(1.0161)\n",
            "epoch: 24loss: tensor(1.0157)\n",
            "epoch: 25loss: tensor(1.0156)\n",
            "epoch: 26loss: tensor(1.0157)\n",
            "epoch: 27loss: tensor(1.0154)\n",
            "epoch: 28loss: tensor(1.0152)\n",
            "epoch: 29loss: tensor(1.0132)\n",
            "epoch: 30loss: tensor(1.0122)\n",
            "epoch: 31loss: tensor(1.0087)\n",
            "epoch: 32loss: tensor(1.0097)\n",
            "epoch: 33loss: tensor(1.0049)\n",
            "epoch: 34loss: tensor(1.0050)\n",
            "epoch: 35loss: tensor(1.0002)\n",
            "epoch: 36loss: tensor(0.9983)\n",
            "epoch: 37loss: tensor(0.9960)\n",
            "epoch: 38loss: tensor(0.9956)\n",
            "epoch: 39loss: tensor(0.9953)\n",
            "epoch: 40loss: tensor(0.9923)\n",
            "epoch: 41loss: tensor(0.9906)\n",
            "epoch: 42loss: tensor(0.9886)\n",
            "epoch: 43loss: tensor(0.9867)\n",
            "epoch: 44loss: tensor(0.9863)\n",
            "epoch: 45loss: tensor(0.9831)\n",
            "epoch: 46loss: tensor(0.9861)\n",
            "epoch: 47loss: tensor(0.9793)\n",
            "epoch: 48loss: tensor(0.9757)\n",
            "epoch: 49loss: tensor(0.9733)\n",
            "epoch: 50loss: tensor(0.9733)\n",
            "epoch: 51loss: tensor(0.9739)\n",
            "epoch: 52loss: tensor(0.9750)\n",
            "epoch: 53loss: tensor(0.9724)\n",
            "epoch: 54loss: tensor(0.9723)\n",
            "epoch: 55loss: tensor(0.9690)\n",
            "epoch: 56loss: tensor(0.9729)\n",
            "epoch: 57loss: tensor(0.9750)\n",
            "epoch: 58loss: tensor(0.9758)\n",
            "epoch: 59loss: tensor(0.9677)\n",
            "epoch: 60loss: tensor(0.9721)\n",
            "epoch: 61loss: tensor(0.9708)\n",
            "epoch: 62loss: tensor(0.9668)\n",
            "epoch: 63loss: tensor(0.9624)\n",
            "epoch: 64loss: tensor(0.9626)\n",
            "epoch: 65loss: tensor(0.9585)\n",
            "epoch: 66loss: tensor(0.9587)\n",
            "epoch: 67loss: tensor(0.9543)\n",
            "epoch: 68loss: tensor(0.9550)\n",
            "epoch: 69loss: tensor(0.9565)\n",
            "epoch: 70loss: tensor(0.9559)\n",
            "epoch: 71loss: tensor(0.9537)\n",
            "epoch: 72loss: tensor(0.9545)\n",
            "epoch: 73loss: tensor(0.9525)\n",
            "epoch: 74loss: tensor(0.9553)\n",
            "epoch: 75loss: tensor(0.9575)\n",
            "epoch: 76loss: tensor(0.9520)\n",
            "epoch: 77loss: tensor(0.9483)\n",
            "epoch: 78loss: tensor(0.9476)\n",
            "epoch: 79loss: tensor(0.9467)\n",
            "epoch: 80loss: tensor(0.9470)\n",
            "epoch: 81loss: tensor(0.9439)\n",
            "epoch: 82loss: tensor(0.9460)\n",
            "epoch: 83loss: tensor(0.9427)\n",
            "epoch: 84loss: tensor(0.9436)\n",
            "epoch: 85loss: tensor(0.9413)\n",
            "epoch: 86loss: tensor(0.9420)\n",
            "epoch: 87loss: tensor(0.9399)\n",
            "epoch: 88loss: tensor(0.9406)\n",
            "epoch: 89loss: tensor(0.9400)\n",
            "epoch: 90loss: tensor(0.9439)\n",
            "epoch: 91loss: tensor(0.9380)\n",
            "epoch: 92loss: tensor(0.9428)\n",
            "epoch: 93loss: tensor(0.9387)\n",
            "epoch: 94loss: tensor(0.9383)\n",
            "epoch: 95loss: tensor(0.9379)\n",
            "epoch: 96loss: tensor(0.9374)\n",
            "epoch: 97loss: tensor(0.9353)\n",
            "epoch: 98loss: tensor(0.9365)\n",
            "epoch: 99loss: tensor(0.9344)\n",
            "epoch: 100loss: tensor(0.9356)\n",
            "epoch: 101loss: tensor(0.9340)\n",
            "epoch: 102loss: tensor(0.9348)\n",
            "epoch: 103loss: tensor(0.9333)\n",
            "epoch: 104loss: tensor(0.9336)\n",
            "epoch: 105loss: tensor(0.9334)\n",
            "epoch: 106loss: tensor(0.9332)\n",
            "epoch: 107loss: tensor(0.9321)\n",
            "epoch: 108loss: tensor(0.9326)\n",
            "epoch: 109loss: tensor(0.9313)\n",
            "epoch: 110loss: tensor(0.9319)\n",
            "epoch: 111loss: tensor(0.9306)\n",
            "epoch: 112loss: tensor(0.9310)\n",
            "epoch: 113loss: tensor(0.9299)\n",
            "epoch: 114loss: tensor(0.9308)\n",
            "epoch: 115loss: tensor(0.9298)\n",
            "epoch: 116loss: tensor(0.9301)\n",
            "epoch: 117loss: tensor(0.9292)\n",
            "epoch: 118loss: tensor(0.9296)\n",
            "epoch: 119loss: tensor(0.9286)\n",
            "epoch: 120loss: tensor(0.9286)\n",
            "epoch: 121loss: tensor(0.9278)\n",
            "epoch: 122loss: tensor(0.9283)\n",
            "epoch: 123loss: tensor(0.9274)\n",
            "epoch: 124loss: tensor(0.9277)\n",
            "epoch: 125loss: tensor(0.9269)\n",
            "epoch: 126loss: tensor(0.9268)\n",
            "epoch: 127loss: tensor(0.9264)\n",
            "epoch: 128loss: tensor(0.9262)\n",
            "epoch: 129loss: tensor(0.9255)\n",
            "epoch: 130loss: tensor(0.9255)\n",
            "epoch: 131loss: tensor(0.9252)\n",
            "epoch: 132loss: tensor(0.9248)\n",
            "epoch: 133loss: tensor(0.9245)\n",
            "epoch: 134loss: tensor(0.9242)\n",
            "epoch: 135loss: tensor(0.9237)\n",
            "epoch: 136loss: tensor(0.9236)\n",
            "epoch: 137loss: tensor(0.9231)\n",
            "epoch: 138loss: tensor(0.9237)\n",
            "epoch: 139loss: tensor(0.9225)\n",
            "epoch: 140loss: tensor(0.9227)\n",
            "epoch: 141loss: tensor(0.9219)\n",
            "epoch: 142loss: tensor(0.9223)\n",
            "epoch: 143loss: tensor(0.9214)\n",
            "epoch: 144loss: tensor(0.9218)\n",
            "epoch: 145loss: tensor(0.9212)\n",
            "epoch: 146loss: tensor(0.9210)\n",
            "epoch: 147loss: tensor(0.9204)\n",
            "epoch: 148loss: tensor(0.9202)\n",
            "epoch: 149loss: tensor(0.9196)\n",
            "epoch: 150loss: tensor(0.9198)\n",
            "epoch: 151loss: tensor(0.9192)\n",
            "epoch: 152loss: tensor(0.9193)\n",
            "epoch: 153loss: tensor(0.9194)\n",
            "epoch: 154loss: tensor(0.9189)\n",
            "epoch: 155loss: tensor(0.9187)\n",
            "epoch: 156loss: tensor(0.9186)\n",
            "epoch: 157loss: tensor(0.9182)\n",
            "epoch: 158loss: tensor(0.9180)\n",
            "epoch: 159loss: tensor(0.9174)\n",
            "epoch: 160loss: tensor(0.9174)\n",
            "epoch: 161loss: tensor(0.9173)\n",
            "epoch: 162loss: tensor(0.9170)\n",
            "epoch: 163loss: tensor(0.9168)\n",
            "epoch: 164loss: tensor(0.9169)\n",
            "epoch: 165loss: tensor(0.9166)\n",
            "epoch: 166loss: tensor(0.9164)\n",
            "epoch: 167loss: tensor(0.9159)\n",
            "epoch: 168loss: tensor(0.9163)\n",
            "epoch: 169loss: tensor(0.9156)\n",
            "epoch: 170loss: tensor(0.9157)\n",
            "epoch: 171loss: tensor(0.9150)\n",
            "epoch: 172loss: tensor(0.9156)\n",
            "epoch: 173loss: tensor(0.9152)\n",
            "epoch: 174loss: tensor(0.9150)\n",
            "epoch: 175loss: tensor(0.9143)\n",
            "epoch: 176loss: tensor(0.9145)\n",
            "epoch: 177loss: tensor(0.9140)\n",
            "epoch: 178loss: tensor(0.9143)\n",
            "epoch: 179loss: tensor(0.9135)\n",
            "epoch: 180loss: tensor(0.9136)\n",
            "epoch: 181loss: tensor(0.9134)\n",
            "epoch: 182loss: tensor(0.9133)\n",
            "epoch: 183loss: tensor(0.9130)\n",
            "epoch: 184loss: tensor(0.9125)\n",
            "epoch: 185loss: tensor(0.9121)\n",
            "epoch: 186loss: tensor(0.9124)\n",
            "epoch: 187loss: tensor(0.9118)\n",
            "epoch: 188loss: tensor(0.9120)\n",
            "epoch: 189loss: tensor(0.9112)\n",
            "epoch: 190loss: tensor(0.9112)\n",
            "epoch: 191loss: tensor(0.9107)\n",
            "epoch: 192loss: tensor(0.9109)\n",
            "epoch: 193loss: tensor(0.9102)\n",
            "epoch: 194loss: tensor(0.9101)\n",
            "epoch: 195loss: tensor(0.9089)\n",
            "epoch: 196loss: tensor(0.9088)\n",
            "epoch: 197loss: tensor(0.9084)\n",
            "epoch: 198loss: tensor(0.9087)\n",
            "epoch: 199loss: tensor(0.9076)\n",
            "epoch: 200loss: tensor(0.9074)\n"
          ]
        }
      ]
    },
    {
      "cell_type": "markdown",
      "metadata": {
        "id": "Bak5uc8gd-gX"
      },
      "source": [
        "## Testing the SAE\n"
      ]
    },
    {
      "cell_type": "code",
      "metadata": {
        "id": "5ztvzYRtiGCz",
        "colab": {
          "base_uri": "https://localhost:8080/"
        },
        "outputId": "59eb9c53-d41c-490e-c42b-316a5a786182"
      },
      "source": [
        "test_loss = 0\n",
        "s = 0.\n",
        "for id_user in range(nb_users):\n",
        "  input = Variable(training_set[id_user]).unsqueeze(0)\n",
        "  target = Variable(test_set[id_user]).unsqueeze(0)\n",
        "  if torch.sum(target.data > 0) > 0:\n",
        "    output = sae(input)\n",
        "    target.require_grad = False\n",
        "    output[target == 0] = 0\n",
        "    loss = criterion(output, target)\n",
        "    mean_corrector = nb_movies/float(torch.sum(target.data > 0) + 1e-10)\n",
        "    test_loss += np.sqrt(loss.data*mean_corrector)\n",
        "    s += 1.\n",
        "print('test loss: '+str(test_loss/s))"
      ],
      "execution_count": 48,
      "outputs": [
        {
          "output_type": "stream",
          "name": "stdout",
          "text": [
            "test loss: tensor(0.9535)\n"
          ]
        }
      ]
    },
    {
      "cell_type": "code",
      "source": [
        ""
      ],
      "metadata": {
        "id": "8tScqXQBTGba"
      },
      "execution_count": null,
      "outputs": []
    }
  ]
}